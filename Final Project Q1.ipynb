{
 "cells": [
  {
   "cell_type": "markdown",
   "metadata": {},
   "source": [
    "# Q1\n",
    "## (a)(b)"
   ]
  },
  {
   "cell_type": "code",
   "execution_count": 53,
   "metadata": {
    "ExecuteTime": {
     "end_time": "2020-11-29T16:57:47.577970Z",
     "start_time": "2020-11-29T16:57:47.559952Z"
    }
   },
   "outputs": [],
   "source": [
    "from sklearn.impute import KNNImputer\n",
    "from utils import *\n",
    "import matplotlib.pyplot as plt\n",
    "\n",
    "def knn_impute_by_user(matrix, valid_data, k):\n",
    "    \"\"\" Fill in the missing values using k-Nearest Neighbors based on\n",
    "    student similarity. Return the accuracy on valid_data.\n",
    "\n",
    "    See https://scikit-learn.org/stable/modules/generated/sklearn.\n",
    "    impute.KNNImputer.html for details.\n",
    "\n",
    "    :param matrix: 2D sparse matrix\n",
    "    :param valid_data: A dictionary {user_id: list, question_id: list,\n",
    "    is_correct: list}\n",
    "    :param k: int\n",
    "    :return: float\n",
    "    \"\"\"\n",
    "    nbrs = KNNImputer(n_neighbors=k)\n",
    "    # We use NaN-Euclidean distance measure.\n",
    "    mat = nbrs.fit_transform(matrix)\n",
    "    acc = sparse_matrix_evaluate(valid_data, mat)\n",
    "    return acc\n",
    "\n",
    "def plot_knn_valid(sparse_matrix, val_data, test_data, k_list):\n",
    "    accu_list = []\n",
    "    \n",
    "    for k in k_list:\n",
    "        accu_list.append(knn_impute_by_user(sparse_matrix, val_data, k))\n",
    "    \n",
    "    plt.plot(k_list, accu_list, 'b-')\n",
    "    plt.xlabel('k')\n",
    "    plt.ylabel('accuracy')\n",
    "    plt.show()\n",
    "    \n",
    "    k_best = 11\n",
    "    test_accu = knn_impute_by_user(sparse_matrix, test_data, k_best)\n",
    "    print(\"The chosen k is 11 and the test accuracy is \" + str(test_accu))\n",
    "\n",
    "    \n",
    "def main():\n",
    "    sparse_matrix = load_train_sparse(\"./data\").toarray()\n",
    "    val_data = load_valid_csv(\"./data\")\n",
    "    test_data = load_public_test_csv(\"./data\")\n",
    "\n",
    "    print(\"Sparse matrix:\")\n",
    "    print(sparse_matrix)\n",
    "    print(\"Shape of sparse matrix:\")\n",
    "    print(sparse_matrix.shape)\n",
    "\n",
    "    #####################################################################\n",
    "    # TODO:                                                             #\n",
    "    # Compute the validation accuracy for each k. Then pick k* with     #\n",
    "    # the best performance and report the test accuracy with the        #\n",
    "    # chosen k*.                                                        #\n",
    "    #####################################################################\n",
    "    pass\n",
    "    #####################################################################\n",
    "    #                       END OF YOUR CODE                            #\n",
    "    #####################################################################\n",
    "\n"
   ]
  },
  {
   "cell_type": "code",
   "execution_count": 54,
   "metadata": {
    "ExecuteTime": {
     "end_time": "2020-11-29T16:57:48.275401Z",
     "start_time": "2020-11-29T16:57:48.198799Z"
    }
   },
   "outputs": [],
   "source": [
    "sparse_matrix = load_train_sparse(\"data\").toarray()\n",
    "val_data = load_valid_csv(\"data\")\n",
    "test_data = load_public_test_csv(\"data\")"
   ]
  },
  {
   "cell_type": "code",
   "execution_count": 55,
   "metadata": {
    "ExecuteTime": {
     "end_time": "2020-11-29T16:58:19.724382Z",
     "start_time": "2020-11-29T16:57:48.743193Z"
    }
   },
   "outputs": [
    {
     "data": {
      "image/png": "[encoded data removed]",
      "text/plain": [
       "<Figure size 432x288 with 1 Axes>"
      ]
     },
     "metadata": {
      "needs_background": "light"
     },
     "output_type": "display_data"
    },
    {
     "name": "stdout",
     "output_type": "stream",
     "text": [
      "The chosen k is 11 and the test accuracy is 0.6841659610499576\n"
     ]
    }
   ],
   "source": [
    "k_list = [1, 6, 11, 16, 21, 26]\n",
    "accu_list = plot_knn_valid(sparse_matrix, val_data, test_data, k_list)"
   ]
  },
  {
   "cell_type": "markdown",
   "metadata": {
    "ExecuteTime": {
     "end_time": "2020-11-29T16:15:35.087902Z",
     "start_time": "2020-11-29T16:15:35.080176Z"
    }
   },
   "source": [
    "## (c)"
   ]
  },
  {
   "cell_type": "code",
   "execution_count": 44,
   "metadata": {
    "ExecuteTime": {
     "end_time": "2020-11-29T16:35:46.230734Z",
     "start_time": "2020-11-29T16:35:46.225385Z"
    }
   },
   "outputs": [],
   "source": [
    "def knn_impute_by_item(matrix, valid_data, k):\n",
    "    \"\"\" Fill in the missing values using k-Nearest Neighbors based on\n",
    "    question similarity. Return the accuracy on valid_data.\n",
    "\n",
    "    :param matrix: 2D sparse matrix\n",
    "    :param valid_data: A dictionary {user_id: list, question_id: list,\n",
    "    is_correct: list}\n",
    "    :param k: int\n",
    "    :return: float\n",
    "    \"\"\"\n",
    "    #####################################################################\n",
    "    # TODO:                                                             #\n",
    "    # Implement the function as described in the docstring.             #\n",
    "    #####################################################################\n",
    "    matrix = matrix.T\n",
    "    nbrs = KNNImputer(n_neighbors=k)\n",
    "    # We use NaN-Euclidean distance measure.\n",
    "    mat = nbrs.fit_transform(matrix)\n",
    "    acc = sparse_matrix_evaluate(valid_data, mat.T)\n",
    "    \n",
    "    #####################################################################\n",
    "    #                       END OF YOUR CODE                            #\n",
    "    #####################################################################\n",
    "    return acc\n",
    "\n",
    "\n",
    "def item_based_report_knn(sparse_matrix, valid_data, test_data, k_list):\n",
    "    accu_list = []\n",
    "    \n",
    "    for k in k_list:\n",
    "        accu_list.append(knn_impute_by_item(sparse_matrix, valid_data, k))\n",
    "    \n",
    "    plt.plot(k_list, accu_list, 'b-')\n",
    "    plt.xlabel('k')\n",
    "    plt.ylabel('accuracy')\n",
    "    plt.show()\n",
    "    \n",
    "    k_best = 21\n",
    "    test_accu = knn_impute_by_item(sparse_matrix, test_data, k_best)\n",
    "    print(\"The chosen k is 21 and the test accuracy is \" + str(test_accu))"
   ]
  },
  {
   "cell_type": "code",
   "execution_count": 52,
   "metadata": {
    "ExecuteTime": {
     "end_time": "2020-11-29T16:42:33.836632Z",
     "start_time": "2020-11-29T16:41:23.973836Z"
    }
   },
   "outputs": [
    {
     "data": {
      "image/png": "[encoded data removed]",
      "text/plain": [
       "<Figure size 432x288 with 1 Axes>"
      ]
     },
     "metadata": {
      "needs_background": "light"
     },
     "output_type": "display_data"
    },
    {
     "name": "stdout",
     "output_type": "stream",
     "text": [
      "The chosen k is 21 and the test accuracy is 0.6816257408975445\n"
     ]
    }
   ],
   "source": [
    "item_based_report_knn(sparse_matrix, val_data, test_data, k_list)"
   ]
  },
  {
   "cell_type": "markdown",
   "metadata": {},
   "source": [
    "## (d)"
   ]
  },
  {
   "cell_type": "markdown",
   "metadata": {},
   "source": [
    "The test accuracy indicates that user-based collaborative filtering performs better. Besides, the computational time it takes is much less than the computational time that item-based algorithm takes."
   ]
  },
  {
   "cell_type": "markdown",
   "metadata": {},
   "source": [
    "## (e)"
   ]
  },
  {
   "cell_type": "markdown",
   "metadata": {},
   "source": [
    "1. The computational is expensive.\n",
    "2. The dimension of data is high, and in high dimensions, most points have approximately the same distance."
   ]
  }
 ],
 "metadata": {
  "kernelspec": {
   "display_name": "Python 3",
   "language": "python",
   "name": "python3"
  },
  "language_info": {
   "codemirror_mode": {
    "name": "ipython",
    "version": 3
   },
   "file_extension": ".py",
   "mimetype": "text/x-python",
   "name": "python",
   "nbconvert_exporter": "python",
   "pygments_lexer": "ipython3",
   "version": "3.7.6"
  },
  "toc": {
   "base_numbering": 1,
   "nav_menu": {},
   "number_sections": true,
   "sideBar": true,
   "skip_h1_title": false,
   "title_cell": "Table of Contents",
   "title_sidebar": "Contents",
   "toc_cell": false,
   "toc_position": {},
   "toc_section_display": true,
   "toc_window_display": false
  },
  "varInspector": {
   "cols": {
    "lenName": 16,
    "lenType": 16,
    "lenVar": 40
   },
   "kernels_config": {
    "python": {
     "delete_cmd_postfix": "",
     "delete_cmd_prefix": "del ",
     "library": "var_list.py",
     "varRefreshCmd": "print(var_dic_list())"
    },
    "r": {
     "delete_cmd_postfix": ") ",
     "delete_cmd_prefix": "rm(",
     "library": "var_list.r",
     "varRefreshCmd": "cat(var_dic_list()) "
    }
   },
   "types_to_exclude": [
    "module",
    "function",
    "builtin_function_or_method",
    "instance",
    "_Feature"
   ],
   "window_display": false
  }
 },
 "nbformat": 4,
 "nbformat_minor": 4
}
