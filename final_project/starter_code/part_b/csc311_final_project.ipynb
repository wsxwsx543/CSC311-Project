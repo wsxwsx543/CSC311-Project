{
  "nbformat": 4,
  "nbformat_minor": 0,
  "metadata": {
    "colab": {
      "name": "csc311-final-project.ipynb",
      "provenance": []
    },
    "kernelspec": {
      "name": "python3",
      "display_name": "Python 3"
    }
  },
  "cells": [
    {
      "cell_type": "code",
      "metadata": {
        "colab": {
          "base_uri": "https://localhost:8080/"
        },
        "id": "J6mGnGxjdbJm",
        "outputId": "d26b2da2-572f-4f5e-8963-5a19c059098c"
      },
      "source": [
        "! unzip ./all.zip"
      ],
      "execution_count": 1,
      "outputs": [
        {
          "output_type": "stream",
          "text": [
            "Archive:  ./all.zip\n",
            "  inflating: data/private_test_data.csv  \n",
            "  inflating: data/question_meta.csv  \n",
            "  inflating: data/student_meta.csv   \n",
            "  inflating: data/subject_meta.csv   \n",
            "  inflating: data/test_data.csv      \n",
            "  inflating: data/train_data.csv     \n",
            "  inflating: data/train_sparse.npz   \n",
            "  inflating: data/valid_data.csv     \n",
            "  inflating: majority_vote.py        \n",
            " extracting: part_a/__init__.py      \n",
            " extracting: part_a/ensemble.py      \n",
            "  inflating: part_a/item_response.py  \n",
            "  inflating: part_a/knn.py           \n",
            "  inflating: part_a/matrix_factorization.py  \n",
            "  inflating: part_a/neural_network.py  \n",
            "  inflating: utils.py                \n"
          ],
          "name": "stdout"
        }
      ]
    },
    {
      "cell_type": "code",
      "metadata": {
        "id": "1yYjMa3KdsL7"
      },
      "source": [
        "from utils import *\r\n",
        "import random\r\n",
        "from torch.autograd import Variable\r\n",
        "\r\n",
        "import torch.nn as nn\r\n",
        "import torch.nn.functional as F\r\n",
        "import torch.optim as optim\r\n",
        "import torch.utils.data\r\n",
        "import copy\r\n",
        "# import numpy as np\r\n",
        "import torch\r\n",
        "\r\n",
        "import random\r\n",
        "import matplotlib.pyplot as plt\r\n",
        "\r\n",
        "import autograd.numpy as np\r\n",
        "from autograd import grad"
      ],
      "execution_count": 19,
      "outputs": []
    },
    {
      "cell_type": "code",
      "metadata": {
        "id": "exOwZp04Ak4n"
      },
      "source": [
        "def sigmoid(x):\r\n",
        "    \"\"\" Apply sigmoid function.\r\n",
        "    \"\"\"\r\n",
        "    return np.exp(x) / (1 + np.exp(x))\r\n",
        "\r\n",
        "\r\n",
        "def neg_log_likelihood(data, theta, beta):\r\n",
        "    \"\"\" Compute the negative log-likelihood.\r\n",
        "\r\n",
        "    You may optionally replace the function arguments to receive a matrix.\r\n",
        "\r\n",
        "    :param data: A dictionary {user_id: list, question_id: list,\r\n",
        "    is_correct: list}\r\n",
        "    :param theta: Vector\r\n",
        "    :param beta: Vector\r\n",
        "    :return: float\r\n",
        "    \"\"\"\r\n",
        "\r\n",
        "    log_lklihood = 0.\r\n",
        "    assert len(data[\"user_id\"]) == len(data[\"question_id\"])\r\n",
        "    assert len(data[\"user_id\"]) == len(data[\"is_correct\"])\r\n",
        "    length = len(data[\"user_id\"])\r\n",
        "    for s in range(length):\r\n",
        "        i = data[\"user_id\"][s]\r\n",
        "        j = data[\"question_id\"][s]\r\n",
        "        cij = data[\"is_correct\"][s]\r\n",
        "        \r\n",
        "        theta_i = theta[i]\r\n",
        "        beta_j = beta[j]\r\n",
        "\r\n",
        "        theta_i_minus_beta_j = theta_i - beta_j\r\n",
        "        log_lklihood += cij*theta_i_minus_beta_j - np.log(1.0+np.exp(theta_i_minus_beta_j))\r\n",
        "    return -log_lklihood\r\n",
        "\r\n",
        "# def loss_auto_grad(data, c, theta, beta, k):\r\n",
        "#   def theta\r\n",
        "\r\n",
        "\r\n",
        "def update_theta_beta(data, lr, theta, beta):\r\n",
        "    \"\"\" Update theta and beta using gradient descent.\r\n",
        "\r\n",
        "    You are using alternating gradient descent. Your update should look:\r\n",
        "    for i in iterations ...\r\n",
        "        theta <- new_theta\r\n",
        "        beta <- new_beta\r\n",
        "\r\n",
        "    You may optionally replace the function arguments to receive a matrix.\r\n",
        "\r\n",
        "    :param data: A dictionary {user_id: list, question_id: list,\r\n",
        "    is_correct: list}\r\n",
        "    :param lr: float\r\n",
        "    :param theta: Vector\r\n",
        "    :param beta: Vector\r\n",
        "    :return: tuple of vectors\r\n",
        "    \"\"\"\r\n",
        "    #####################################################################\r\n",
        "    # TODO:                                                             #\r\n",
        "    # Implement the function as described in the docstring.             #\r\n",
        "    #####################################################################\r\n",
        "    dtheta = []\r\n",
        "    dbeta = []\r\n",
        "    \r\n",
        "    N = len(theta)\r\n",
        "    M = len(beta)\r\n",
        "    \r\n",
        "    theta_mid = {x: [] for x in range(N)}\r\n",
        "    beta_mid = {x: [] for x in range(M)}\r\n",
        "    \r\n",
        "    assert len(data[\"user_id\"]) == len(data[\"question_id\"])\r\n",
        "    assert len(data[\"user_id\"]) == len(data[\"is_correct\"])\r\n",
        "    \r\n",
        "    length = len(data[\"user_id\"])\r\n",
        "    for s in range(length):\r\n",
        "        i = data[\"user_id\"][s]\r\n",
        "        j = data[\"question_id\"][s]\r\n",
        "        cij = data[\"is_correct\"][s]\r\n",
        "        theta_i = theta[i]\r\n",
        "        beta_j = beta[j]\r\n",
        "        theta_mid[i].append(cij - sigmoid(theta_i-beta_j))\r\n",
        "        beta_mid[j].append(-1*cij+sigmoid(theta_i-beta_j))\r\n",
        "    \r\n",
        "    for i in range(N):\r\n",
        "        dtheta.append(-1*sum(theta_mid[i]))\r\n",
        "    for j in range(M):\r\n",
        "        dbeta.append(-1*sum(beta_mid[j]))\r\n",
        "\r\n",
        "    theta -= lr * np.array(dtheta, dtype=np.float32)\r\n",
        "    beta -= lr * np.array(dbeta, dtype=np.float32)\r\n",
        "\r\n",
        "    #####################################################################\r\n",
        "    #                       END OF YOUR CODE                            #\r\n",
        "    #####################################################################\r\n",
        "    return theta, beta\r\n",
        "\r\n",
        "\r\n",
        "def irt(data, val_data, lr, iterations):\r\n",
        "    \"\"\" Train IRT model.\r\n",
        "\r\n",
        "    You may optionally replace the function arguments to receive a matrix.\r\n",
        "\r\n",
        "    :param data: A dictionary {user_id: list, question_id: list,\r\n",
        "    is_correct: list}\r\n",
        "    :param val_data: A dictionary {user_id: list, question_id: list,\r\n",
        "    is_correct: list}\r\n",
        "    :param lr: float\r\n",
        "    :param iterations: int\r\n",
        "    :return: (theta, beta, val_acc_lst)\r\n",
        "    \"\"\"\r\n",
        "    # TODO: Initialize theta and beta.\r\n",
        "    theta = np.array([0 for i in range(542)], dtype=np.float32)\r\n",
        "    beta = np.array([0 for j in range(1774)], dtype=np.float32)\r\n",
        "\r\n",
        "    train_acc_lst = []\r\n",
        "    val_acc_lst = []\r\n",
        "    train_nlld = []\r\n",
        "    val_nlld = []\r\n",
        "\r\n",
        "    for i in range(iterations):\r\n",
        "        train_neg_lld = neg_log_likelihood(data, theta=theta, beta=beta)\r\n",
        "        val_neg_lld = neg_log_likelihood(val_data, theta=theta, beta=beta)\r\n",
        "        train_nlld.append(train_neg_lld)\r\n",
        "        val_nlld.append(val_neg_lld)\r\n",
        "\r\n",
        "        val_score = evaluate(data=val_data, theta=theta, beta=beta)\r\n",
        "        val_acc_lst.append(val_score)\r\n",
        "        \r\n",
        "        train_score = evaluate(data=data, theta=theta, beta=beta)\r\n",
        "        train_acc_lst.append(train_score)\r\n",
        "\r\n",
        "        print(\"Step: {} \\n Train NLLK: {}, Train Score: {} \\n Val NLLK: {}, Val Score: {}\".format(i, train_neg_lld, train_score, val_neg_lld, val_score))\r\n",
        "        # print(\"NLLK: {} \\t Score: {}\".format(neg_lld, score))\r\n",
        "        theta, beta = update_theta_beta(data, lr, theta, beta)\r\n",
        "\r\n",
        "    # TODO: You may change the return values to achieve what you want.\r\n",
        "    return theta, beta, train_acc_lst, val_acc_lst, train_nlld, val_nlld\r\n",
        "\r\n",
        "\r\n",
        "def evaluate(data, theta, beta):\r\n",
        "    \"\"\" Evaluate the model given data and return the accuracy.\r\n",
        "    :param data: A dictionary {user_id: list, question_id: list,\r\n",
        "    is_correct: list}\r\n",
        "\r\n",
        "    :param theta: Vector\r\n",
        "    :param beta: Vector\r\n",
        "    :return: float\r\n",
        "    \"\"\"\r\n",
        "    pred = []\r\n",
        "    for i, q in enumerate(data[\"question_id\"]):\r\n",
        "        u = data[\"user_id\"][i]\r\n",
        "        x = (theta[u] - beta[q]).sum()\r\n",
        "        p_a = sigmoid(x)\r\n",
        "        pred.append(p_a >= 0.5)\r\n",
        "    return np.sum((data[\"is_correct\"] == np.array(pred))) \\\r\n",
        "           / len(data[\"is_correct\"])\r\n"
      ],
      "execution_count": 41,
      "outputs": []
    },
    {
      "cell_type": "code",
      "metadata": {
        "id": "ASNNkc87Km6o"
      },
      "source": [
        "def loss(data, c, theta, beta, k):\r\n",
        "    log_lklihood = 0.\r\n",
        "    assert len(data[\"user_id\"]) == len(data[\"question_id\"])\r\n",
        "    assert len(data[\"user_id\"]) == len(data[\"is_correct\"])\r\n",
        "    length = len(data[\"user_id\"])\r\n",
        "    for s in range(length):\r\n",
        "        i = data[\"user_id\"][s]\r\n",
        "        j = data[\"question_id\"][s]\r\n",
        "        cij = data[\"is_correct\"][s]\r\n",
        "        \r\n",
        "        theta_i = theta[i]\r\n",
        "        beta_j = beta[j]\r\n",
        "        k_j = k[j]\r\n",
        "\r\n",
        "        useful_term = k_j*(theta_i - beta_j)\r\n",
        "        term1 = cij*np.log(c+(1-c)*sigmoid(useful_term))\r\n",
        "        term2 = (1-cij)*np.log(1-c-(1-c)*sigmoid(useful_term))\r\n",
        "        new_term = term1+term2\r\n",
        "        log_lklihood += new_term\r\n",
        "    return -log_lklihood\r\n"
      ],
      "execution_count": 4,
      "outputs": []
    },
    {
      "cell_type": "code",
      "metadata": {
        "id": "pBW-IMt6QJZ1"
      },
      "source": [
        "def update_params(data, c, lr, theta, beta, k):\r\n",
        "    dtheta = []\r\n",
        "    dbeta = []\r\n",
        "    dk = []\r\n",
        "    \r\n",
        "    N = len(theta)\r\n",
        "    M = len(beta)\r\n",
        "    \r\n",
        "    theta_mid = {x: [] for x in range(N)}\r\n",
        "    beta_mid = {x: [] for x in range(M)}\r\n",
        "    k_mid = {x: [] for x in range(M)}\r\n",
        "    \r\n",
        "    assert len(data[\"user_id\"]) == len(data[\"question_id\"])\r\n",
        "    assert len(data[\"user_id\"]) == len(data[\"is_correct\"])\r\n",
        "    \r\n",
        "    length = len(data[\"user_id\"])\r\n",
        "    for s in range(length):\r\n",
        "        i = data[\"user_id\"][s]\r\n",
        "        j = data[\"question_id\"][s]\r\n",
        "        cij = data[\"is_correct\"][s]\r\n",
        "        theta_i = theta[i]\r\n",
        "        beta_j = beta[j]\r\n",
        "        k_j = k[j]\r\n",
        "        useful_term = k_j*(theta_i - beta_j)\r\n",
        "\r\n",
        "        theta_term1 = cij*(1-c)*sigmoid(useful_term)*(1-sigmoid(useful_term))*k_j/(c+(1-c)*sigmoid(useful_term))\r\n",
        "        theta_term2 = (1-cij)*(-1*(1-c)*sigmoid(useful_term)*(1-sigmoid(useful_term))*k_j)/(1-c-(1-c)*sigmoid(useful_term))\r\n",
        "        \r\n",
        "        beta_term1 = cij*(1-c)*sigmoid(useful_term)*(1-sigmoid(useful_term))*(-1)*k_j/(c+(1-c)*sigmoid(useful_term))\r\n",
        "        beta_term2 = (1-cij)*(-1)*(1-c)*sigmoid(useful_term)*(1-sigmoid(useful_term))*(-1)*k_j/(1-c-(1-c)*sigmoid(useful_term))\r\n",
        "\r\n",
        "        k_term1 = cij*(1-c)*sigmoid(useful_term)*(1-sigmoid(useful_term))*(theta_i-beta_j)/(c+(1-c)*sigmoid(useful_term))\r\n",
        "        k_term2 = (1-cij)*(-1)*(1-c)*sigmoid(useful_term)*(1-sigmoid(useful_term))*(theta_i-beta_j)/(1-c-(1-c)*sigmoid(useful_term))\r\n",
        "\r\n",
        "        theta_mid[i].append(theta_term1+theta_term2)\r\n",
        "        beta_mid[j].append(beta_term1+beta_term2)\r\n",
        "        k_mid[j].append(k_term1+k_term2)\r\n",
        "    \r\n",
        "    for i in range(N):\r\n",
        "        dtheta.append(-1*sum(theta_mid[i]))\r\n",
        "    for j in range(M):\r\n",
        "        dbeta.append(-1*sum(beta_mid[j]))\r\n",
        "    for j in range(M):\r\n",
        "        dk.append(-1*sum(k_mid[j]))\r\n",
        "\r\n",
        "    theta -= lr * np.array(dtheta, dtype=np.float32)\r\n",
        "    beta -= lr * np.array(dbeta, dtype=np.float32)\r\n",
        "    k -= lr * np.array(dk, dtype=np.float32)\r\n",
        "    #####################################################################\r\n",
        "    #                       END OF YOUR CODE                            #\r\n",
        "    #####################################################################\r\n",
        "    return theta, beta, k\r\n"
      ],
      "execution_count": 5,
      "outputs": []
    },
    {
      "cell_type": "code",
      "metadata": {
        "id": "Oy84msQ4bLB6"
      },
      "source": [
        "def new_eval(data, c, theta, beta, k):\r\n",
        "    pred = []\r\n",
        "    for i, q in enumerate(data[\"question_id\"]):\r\n",
        "        u = data[\"user_id\"][i]\r\n",
        "        x = (k[q]*(theta[u] - beta[q])).sum()\r\n",
        "        p_a = sigmoid(x)*(1-c)+c\r\n",
        "        pred.append(p_a >= 0.5)\r\n",
        "    return np.sum((data[\"is_correct\"] == np.array(pred))) \\\r\n",
        "           / len(data[\"is_correct\"])"
      ],
      "execution_count": 6,
      "outputs": []
    },
    {
      "cell_type": "code",
      "metadata": {
        "id": "8CCUos_vgWwd"
      },
      "source": [
        "def predict_private_csv(data, c, theta, beta, k):\r\n",
        "    for i, q in enumerate(data[\"question_id\"]):\r\n",
        "        u = data[\"user_id\"][i]\r\n",
        "        x = (k[q]*(theta[u] - beta[q])).sum()\r\n",
        "        p_a = sigmoid(x)*(1-c)+c\r\n",
        "        data[\"is_correct\"].append(int(p_a >= 0.5))\r\n",
        "    return data"
      ],
      "execution_count": 7,
      "outputs": []
    },
    {
      "cell_type": "code",
      "metadata": {
        "id": "sONV19UIPMMq"
      },
      "source": [
        "def new_irt(data, val_data, c, lr, iterations, theta, beta, k):\r\n",
        "    \"\"\" Train IRT model.\r\n",
        "\r\n",
        "    You may optionally replace the function arguments to receive a matrix.\r\n",
        "\r\n",
        "    :param data: A dictionary {user_id: list, question_id: list,\r\n",
        "    is_correct: list}\r\n",
        "    :param val_data: A dictionary {user_id: list, question_id: list,\r\n",
        "    is_correct: list}\r\n",
        "    :param lr: float\r\n",
        "    :param iterations: int\r\n",
        "    :return: (theta, beta, val_acc_lst)\r\n",
        "    \"\"\"\r\n",
        "    # TODO: Initialize theta and beta.\r\n",
        "\r\n",
        "    train_acc_lst = []\r\n",
        "    val_acc_lst = []\r\n",
        "    train_nlld = []\r\n",
        "    val_nlld = []\r\n",
        "\r\n",
        "    for i in range(iterations):\r\n",
        "        train_neg_lld = loss(data, c, theta, beta, k)\r\n",
        "        val_neg_lld = loss(val_data, c, theta, beta, k)\r\n",
        "        train_nlld.append(train_neg_lld)\r\n",
        "        val_nlld.append(val_neg_lld)\r\n",
        "\r\n",
        "        val_score = new_eval(val_data, c, theta, beta, k)\r\n",
        "        val_acc_lst.append(val_score)\r\n",
        "        \r\n",
        "        train_score = new_eval(data, c, theta, beta, k)\r\n",
        "        train_acc_lst.append(train_score)\r\n",
        "\r\n",
        "        print(\"Step: {} \\n Train NLLK: {}, Train Score: {} \\n Val NLLK: {}, Val Score: {}\".format(i, train_neg_lld, train_score, val_neg_lld, val_score))\r\n",
        "        # print(\"NLLK: {} \\t Score: {}\".format(neg_lld, score))\r\n",
        "        theta, beta, k = update_params(data, c, lr, theta, beta, k)\r\n",
        "        # print(theta, beta, k)\r\n",
        "\r\n",
        "    # TODO: You may change the return values to achieve what you want.\r\n",
        "    return theta, beta, k, train_acc_lst, val_acc_lst, train_nlld, val_nlld\r\n"
      ],
      "execution_count": 8,
      "outputs": []
    },
    {
      "cell_type": "code",
      "metadata": {
        "id": "jZGCYnVwnkQ4"
      },
      "source": [
        "def calc_correctness_percentage(data):\r\n",
        "  length = len(data['question_id'])\r\n",
        "  result = {i:{\"total\":0, \"correct\":0} for i in range(1774)}\r\n",
        "  for s in range(length):\r\n",
        "    if data[\"is_correct\"][s] == 1:\r\n",
        "      result[data[\"question_id\"][s]][\"correct\"] += 1\r\n",
        "    result[data[\"question_id\"][s]][\"total\"] += 1\r\n",
        "  ret = []\r\n",
        "  for i in range(1774):\r\n",
        "    if result[i][\"total\"] == 0:\r\n",
        "      ret.append(1.)\r\n",
        "    else:\r\n",
        "      ret.append(result[i][\"correct\"]/result[i][\"total\"])\r\n",
        "  return np.array(ret)"
      ],
      "execution_count": 21,
      "outputs": []
    },
    {
      "cell_type": "code",
      "metadata": {
        "id": "dLQ0rF9rQpKy"
      },
      "source": [
        "def load_question_meta(path):\r\n",
        "    if not os.path.exists(path):\r\n",
        "        raise Exception(\"The specified path {} does not exist.\".format(path))\r\n",
        "    \r\n",
        "    # Return a dictionary whose keys are question_id and values are the category of that question\r\n",
        "    data = {}\r\n",
        "    with open(path, \"r\") as csv_file:\r\n",
        "        reader = csv.reader(csv_file)\r\n",
        "        for row in reader:\r\n",
        "            try:\r\n",
        "                question_id = int(row[0])\r\n",
        "                cate = eval(row[1])\r\n",
        "                if question_id in data:\r\n",
        "                    print(\"GG\")\r\n",
        "                if question_id not in data:\r\n",
        "                    data[question_id] = []\r\n",
        "                data[question_id].extend(cate)\r\n",
        "            except ValueError:\r\n",
        "                pass\r\n",
        "    return data\r\n"
      ],
      "execution_count": 24,
      "outputs": []
    },
    {
      "cell_type": "code",
      "metadata": {
        "id": "AmTPDbUsMByY"
      },
      "source": [
        "train_data = load_train_csv(\"./data\")\r\n",
        "# You may optionally use the sparse matrix.\r\n",
        "sparse_matrix = load_train_sparse(\"./data\")\r\n",
        "# print(sparse_matrix.shape)\r\n",
        "# print(sparse_matrix)\r\n",
        "val_data = load_valid_csv(\"./data\")\r\n",
        "# print(len(val_data[\"user_id\"]))\r\n",
        "test_data = load_public_test_csv(\"./data\")\r\n",
        "\r\n",
        "question_meta = load_question_meta(\"./data/question_meta.csv\")"
      ],
      "execution_count": 25,
      "outputs": []
    },
    {
      "cell_type": "code",
      "metadata": {
        "id": "3_QnxE1FDbOF"
      },
      "source": [
        "private_test = load_private_test_csv(\"./data\")"
      ],
      "execution_count": 215,
      "outputs": []
    },
    {
      "cell_type": "code",
      "metadata": {
        "id": "ED-VoXIFRVZq"
      },
      "source": [
        "NUMBER = 1\r\n",
        "ALGEBRA = 17\r\n",
        "GEOMETRY = 39\r\n",
        "STATISTICS = 68\r\n",
        "\r\n",
        "number_questions = []\r\n",
        "algebra_questions = []\r\n",
        "geometry_questions = []\r\n",
        "statistics_questions = []\r\n",
        "other_questions = []\r\n",
        "\r\n",
        "for question_id in question_meta:\r\n",
        "  cate = question_meta[question_id]\r\n",
        "  flag = False\r\n",
        "  if NUMBER in cate:\r\n",
        "    number_questions.append(question_id)\r\n",
        "    flag = True\r\n",
        "  if ALGEBRA in cate:\r\n",
        "    algebra_questions.append(question_id)\r\n",
        "    flag = True\r\n",
        "  if GEOMETRY in cate:\r\n",
        "    geometry_questions.append(question_id)\r\n",
        "    flag = True\r\n",
        "  if STATISTICS in cate:\r\n",
        "    statistics_questions.append(question_id)\r\n",
        "    flag = True\r\n",
        "  if not flag:\r\n",
        "    other_questions.append(question_id)"
      ],
      "execution_count": 27,
      "outputs": []
    },
    {
      "cell_type": "code",
      "metadata": {
        "colab": {
          "base_uri": "https://localhost:8080/"
        },
        "id": "6wwMknCNTJcl",
        "outputId": "304c9150-05a2-495a-e6a0-b014160447ae"
      },
      "source": [
        "len(question_meta)"
      ],
      "execution_count": 30,
      "outputs": [
        {
          "output_type": "execute_result",
          "data": {
            "text/plain": [
              "1774"
            ]
          },
          "metadata": {
            "tags": []
          },
          "execution_count": 30
        }
      ]
    },
    {
      "cell_type": "code",
      "metadata": {
        "colab": {
          "base_uri": "https://localhost:8080/"
        },
        "id": "GHdsw8qTS9dX",
        "outputId": "8494a2cf-7a7b-4d9c-b95d-a24a947f0d43"
      },
      "source": [
        "len(other_questions)+len(number_questions)+len(algebra_questions)+len(statistics_questions)+len(geometry_questions)"
      ],
      "execution_count": 31,
      "outputs": [
        {
          "output_type": "execute_result",
          "data": {
            "text/plain": [
              "1795"
            ]
          },
          "metadata": {
            "tags": []
          },
          "execution_count": 31
        }
      ]
    },
    {
      "cell_type": "code",
      "metadata": {
        "id": "QzPNCElsQ36Z"
      },
      "source": [
        "def split_data(data):\r\n",
        "  number = {\r\n",
        "      \"user_id\": [],\r\n",
        "      \"question_id\": [],\r\n",
        "      \"is_correct\": []\r\n",
        "  }\r\n",
        "  algebra = {\r\n",
        "      \"user_id\": [],\r\n",
        "      \"question_id\": [],\r\n",
        "      \"is_correct\": []\r\n",
        "  }\r\n",
        "  geometry = {\r\n",
        "      \"user_id\": [],\r\n",
        "      \"question_id\": [],\r\n",
        "      \"is_correct\": []\r\n",
        "  }\r\n",
        "  statistics = {\r\n",
        "      \"user_id\": [],\r\n",
        "      \"question_id\": [],\r\n",
        "      \"is_correct\": []\r\n",
        "  }\r\n",
        "  other = {\r\n",
        "      \"user_id\": [],\r\n",
        "      \"question_id\": [],\r\n",
        "      \"is_correct\": []\r\n",
        "  }\r\n",
        "  length = len(data[\"question_id\"])\r\n",
        "  for s in range(length):\r\n",
        "    curr_question = data[\"question_id\"][s]\r\n",
        "    flag = False\r\n",
        "    if curr_question in number_questions:\r\n",
        "      number[\"user_id\"].append(data[\"user_id\"][s])\r\n",
        "      number[\"question_id\"].append(curr_question)\r\n",
        "      number[\"is_correct\"].append(data[\"is_correct\"][s])\r\n",
        "      flag = True\r\n",
        "    if curr_question in geometry_questions:\r\n",
        "      geometry[\"user_id\"].append(data[\"user_id\"][s])\r\n",
        "      geometry[\"question_id\"].append(curr_question)\r\n",
        "      geometry[\"is_correct\"].append(data[\"is_correct\"][s])\r\n",
        "      flag = True\r\n",
        "    if curr_question in algebra_questions:\r\n",
        "      algebra[\"user_id\"].append(data[\"user_id\"][s])\r\n",
        "      algebra[\"question_id\"].append(curr_question)\r\n",
        "      algebra[\"is_correct\"].append(data[\"is_correct\"][s])\r\n",
        "      flag = True\r\n",
        "    if curr_question in statistics_questions:\r\n",
        "      statistics[\"user_id\"].append(data[\"user_id\"][s])\r\n",
        "      statistics[\"question_id\"].append(curr_question)\r\n",
        "      statistics[\"is_correct\"].append(data[\"is_correct\"][s])\r\n",
        "      flag = True\r\n",
        "    if not flag:\r\n",
        "      # print(curr_question)\r\n",
        "      other[\"user_id\"].append(data[\"user_id\"][s])\r\n",
        "      other[\"question_id\"].append(curr_question)\r\n",
        "      other[\"is_correct\"].append(data[\"is_correct\"][s])\r\n",
        "  return number, algebra, geometry, statistics, other"
      ],
      "execution_count": 49,
      "outputs": []
    },
    {
      "cell_type": "code",
      "metadata": {
        "id": "h7EssAw_0L2e"
      },
      "source": [
        "def test_cluster_model(data, c, theta, beta, k):\r\n",
        "  length = len(data[\"user_id\"])\r\n",
        "  pred = []\r\n",
        "  for i, q in enumerate(data[\"question_id\"]):\r\n",
        "    u = data[\"user_id\"][i]\r\n",
        "    if q in number_questions:\r\n",
        "      curr_theta = theta[\"number\"]\r\n",
        "      curr_beta = beta[\"number\"]\r\n",
        "      curr_k = k[\"number\"]\r\n",
        "    elif q in algebra_questions:\r\n",
        "      curr_theta = theta[\"algebra\"]\r\n",
        "      curr_beta = beta[\"algebra\"]\r\n",
        "      curr_k = k[\"algebra\"]\r\n",
        "    elif q in geometry_questions:\r\n",
        "      curr_theta = theta[\"geometry\"]\r\n",
        "      curr_beta = beta[\"geometry\"]\r\n",
        "      curr_k = k[\"geometry\"]\r\n",
        "    elif q in statistics_questions:\r\n",
        "      curr_theta = theta[\"statistics\"]\r\n",
        "      curr_beta = beta[\"statistics\"]\r\n",
        "      curr_k = k[\"statistics\"]\r\n",
        "    else:\r\n",
        "      curr_theta = theta[\"other\"]\r\n",
        "      curr_beta = beta[\"other\"]\r\n",
        "      curr_k = k[\"other\"]\r\n",
        "    x = (curr_k[q]*(curr_theta[u]-curr_beta[q])).sum()\r\n",
        "    p_a = sigmoid(x)*(1-c)+c\r\n",
        "    pred.append(p_a >= 0.5)\r\n",
        "  return np.sum(test_data[\"is_correct\"] == np.array(pred)) \\\r\n",
        "        / len(test_data[\"is_correct\"])\r\n",
        "\r\n",
        "def private_test_cluster_model(data, c, theta, beta, k):\r\n",
        "  length = len(data[\"user_id\"])\r\n",
        "  pred = []\r\n",
        "  for i, q in enumerate(data[\"question_id\"]):\r\n",
        "    u = data[\"user_id\"][i]\r\n",
        "    if q in number_questions:\r\n",
        "      curr_theta = theta[\"number\"]\r\n",
        "      curr_beta = beta[\"number\"]\r\n",
        "      curr_k = k[\"number\"]\r\n",
        "    elif q in algebra_questions:\r\n",
        "      curr_theta = theta[\"algebra\"]\r\n",
        "      curr_beta = beta[\"algebra\"]\r\n",
        "      curr_k = k[\"algebra\"]\r\n",
        "    elif q in geometry_questions:\r\n",
        "      curr_theta = theta[\"geometry\"]\r\n",
        "      curr_beta = beta[\"geometry\"]\r\n",
        "      curr_k = k[\"geometry\"]\r\n",
        "    elif q in statistics_questions:\r\n",
        "      curr_theta = theta[\"statistics\"]\r\n",
        "      curr_beta = beta[\"statistics\"]\r\n",
        "      curr_k = k[\"statistics\"]\r\n",
        "    else:\r\n",
        "      curr_theta = theta[\"other\"]\r\n",
        "      curr_beta = beta[\"other\"]\r\n",
        "      curr_k = k[\"other\"]\r\n",
        "    x = (curr_k[q]*(curr_theta[u]-curr_beta[q])).sum()\r\n",
        "    p_a = sigmoid(x)*(1-c)+c\r\n",
        "    data[\"is_correct\"].append(int(p_a >= 0.5))\r\n",
        "  return data"
      ],
      "execution_count": 214,
      "outputs": []
    },
    {
      "cell_type": "code",
      "metadata": {
        "id": "HMm8IEEVDUyU"
      },
      "source": [
        "private_test_cluster_model()"
      ],
      "execution_count": null,
      "outputs": []
    },
    {
      "cell_type": "code",
      "metadata": {
        "id": "ReM6Yfz6Xglq"
      },
      "source": [
        "number_train, algebra_train, geometry_train, statistics_train, other_train = split_data(train_data)\r\n",
        "number_valid, algebra_valid, geometry_valid, statistics_valid, other_valid = split_data(val_data)\r\n",
        "number_test, algebra_test, geometry_test, statistics_test, other_test = split_data(test_data)"
      ],
      "execution_count": 57,
      "outputs": []
    },
    {
      "cell_type": "code",
      "metadata": {
        "colab": {
          "base_uri": "https://localhost:8080/"
        },
        "id": "NXlrzSPfdrbj",
        "outputId": "95345097-a846-4249-d3dc-f3c18d43a384"
      },
      "source": [
        "len(number_train[\"question_id\"]),len(algebra_train[\"question_id\"]),len(geometry_train[\"question_id\"]),len(statistics_train[\"question_id\"]),len(other_train[\"question_id\"])"
      ],
      "execution_count": 54,
      "outputs": [
        {
          "output_type": "execute_result",
          "data": {
            "text/plain": [
              "(25073, 12187, 14388, 5177, 508)"
            ]
          },
          "metadata": {
            "tags": []
          },
          "execution_count": 54
        }
      ]
    },
    {
      "cell_type": "code",
      "metadata": {
        "colab": {
          "base_uri": "https://localhost:8080/"
        },
        "id": "Z8ng7I-wfbUz",
        "outputId": "92371898-647a-4eb4-f293-a35ca2d56d82"
      },
      "source": [
        "len(number_valid[\"question_id\"]),len(algebra_valid[\"question_id\"]),len(geometry_valid[\"question_id\"]),len(statistics_valid[\"question_id\"]),len(other_valid[\"question_id\"])"
      ],
      "execution_count": 56,
      "outputs": [
        {
          "output_type": "execute_result",
          "data": {
            "text/plain": [
              "(3089, 1539, 1818, 654, 58)"
            ]
          },
          "metadata": {
            "tags": []
          },
          "execution_count": 56
        }
      ]
    },
    {
      "cell_type": "code",
      "metadata": {
        "colab": {
          "base_uri": "https://localhost:8080/"
        },
        "id": "VE1tWHAJjKlj",
        "outputId": "bde9a075-1ccc-4852-9aaa-bcbb94918ac3"
      },
      "source": [
        "len(number_test[\"question_id\"]),len(algebra_test[\"question_id\"]),len(geometry_test[\"question_id\"]),len(statistics_test[\"question_id\"]),len(other_test[\"question_id\"])"
      ],
      "execution_count": 69,
      "outputs": [
        {
          "output_type": "execute_result",
          "data": {
            "text/plain": [
              "(1604, 760, 879, 318, 28)"
            ]
          },
          "metadata": {
            "tags": []
          },
          "execution_count": 69
        }
      ]
    },
    {
      "cell_type": "code",
      "metadata": {
        "id": "PASBz9p520wq"
      },
      "source": [
        "def train_category(train, valid, iterations, lr, c):\r\n",
        "  correctness = (0.1+calc_correctness_percentage(train))*10\r\n",
        "  init_theta = np.array([0 for i in range(542)], dtype=np.float32)\r\n",
        "  init_beta = np.array([0 for j in range(1774)], dtype=np.float32)\r\n",
        "  init_k = correctness\r\n",
        "  return new_irt(train, valid, c, lr, iterations, init_theta, init_beta, init_k)"
      ],
      "execution_count": 162,
      "outputs": []
    },
    {
      "cell_type": "code",
      "metadata": {
        "colab": {
          "base_uri": "https://localhost:8080/"
        },
        "id": "zyZ7V3CE2qxU",
        "outputId": "b9da5590-fff2-4025-d45f-c4f712723202"
      },
      "source": [
        "alg_theta, alg_beta, alg_k, train_acc_lst, val_acc_lst, train_nlld, val_nlld = train_category(algebra_train, algebra_valid, 20, 0.0015, 0.25)"
      ],
      "execution_count": 146,
      "outputs": [
        {
          "output_type": "stream",
          "text": [
            "Step: 0 \n",
            " Train NLLK: 8128.814661318239, Train Score: 0.6143431525395914 \n",
            " Val NLLK: 1024.7227034311363, Val Score: 0.6166341780376868\n",
            "Step: 1 \n",
            " Train NLLK: 6984.674517329807, Train Score: 0.6686633297776319 \n",
            " Val NLLK: 916.4097632290305, Val Score: 0.6640675763482781\n",
            "Step: 2 \n",
            " Train NLLK: 6697.569126303753, Train Score: 0.6959875276934439 \n",
            " Val NLLK: 894.6645898170179, Val Score: 0.682261208576998\n",
            "Step: 3 \n",
            " Train NLLK: 6540.239408606103, Train Score: 0.7125625666694019 \n",
            " Val NLLK: 886.008896722261, Val Score: 0.6796621182586094\n",
            "Step: 4 \n",
            " Train NLLK: 6436.776887813398, Train Score: 0.7235578895544432 \n",
            " Val NLLK: 881.1164350405439, Val Score: 0.6855100714749838\n",
            "Step: 5 \n",
            " Train NLLK: 6362.294254183627, Train Score: 0.7331582834167556 \n",
            " Val NLLK: 878.4844444492484, Val Score: 0.6894087069525666\n",
            "Step: 6 \n",
            " Train NLLK: 6305.626256739092, Train Score: 0.7396406006400262 \n",
            " Val NLLK: 877.0320315020722, Val Score: 0.6939571150097466\n",
            "Step: 7 \n",
            " Train NLLK: 6260.85032101809, Train Score: 0.7421022400919012 \n",
            " Val NLLK: 876.3377397785604, Val Score: 0.695906432748538\n",
            "Step: 8 \n",
            " Train NLLK: 6224.473719326962, Train Score: 0.7442356609501928 \n",
            " Val NLLK: 876.1300192740505, Val Score: 0.695906432748538\n",
            "Step: 9 \n",
            " Train NLLK: 6194.279610212328, Train Score: 0.7480101747764011 \n",
            " Val NLLK: 876.2510803806397, Val Score: 0.6926575698505523\n",
            "Step: 10 \n",
            " Train NLLK: 6168.7827309341665, Train Score: 0.7507179781734635 \n",
            " Val NLLK: 876.5980215105386, Val Score: 0.6900584795321637\n",
            "Step: 11 \n",
            " Train NLLK: 6146.945696700634, Train Score: 0.7518667432510052 \n",
            " Val NLLK: 877.102400773576, Val Score: 0.6952566601689408\n",
            "Step: 12 \n",
            " Train NLLK: 6128.019638832966, Train Score: 0.7528513990317551 \n",
            " Val NLLK: 877.7170328940512, Val Score: 0.6978557504873294\n",
            "Step: 13 \n",
            " Train NLLK: 6111.449184041522, Train Score: 0.753425781570526 \n",
            " Val NLLK: 878.4086363245113, Val Score: 0.6972059779077323\n",
            "Step: 14 \n",
            " Train NLLK: 6096.813119937597, Train Score: 0.7545745466480677 \n",
            " Val NLLK: 879.1532900279906, Val Score: 0.6952566601689408\n",
            "Step: 15 \n",
            " Train NLLK: 6083.78583537247, Train Score: 0.7553130384836301 \n",
            " Val NLLK: 879.9335432801217, Val Score: 0.6972059779077323\n",
            "Step: 16 \n",
            " Train NLLK: 6072.111458213614, Train Score: 0.7558874210224009 \n",
            " Val NLLK: 880.7365233155209, Val Score: 0.6972059779077323\n",
            "Step: 17 \n",
            " Train NLLK: 6061.5860245366675, Train Score: 0.7563797489127759 \n",
            " Val NLLK: 881.5526498650884, Val Score: 0.695906432748538\n",
            "Step: 18 \n",
            " Train NLLK: 6052.044867750206, Train Score: 0.7558874210224009 \n",
            " Val NLLK: 882.3747661648207, Val Score: 0.6965562053281351\n",
            "Step: 19 \n",
            " Train NLLK: 6043.353561755061, Train Score: 0.7567079675063593 \n",
            " Val NLLK: 883.1974984408571, Val Score: 0.695906432748538\n"
          ],
          "name": "stdout"
        }
      ]
    },
    {
      "cell_type": "code",
      "metadata": {
        "colab": {
          "base_uri": "https://localhost:8080/"
        },
        "id": "rQGlACde4Hq4",
        "outputId": "09a80bad-63a7-49f7-b93d-06a4065e07ed"
      },
      "source": [
        "new_eval(algebra_test, C, alg_theta, alg_beta, alg_k)"
      ],
      "execution_count": 147,
      "outputs": [
        {
          "output_type": "execute_result",
          "data": {
            "text/plain": [
              "0.718421052631579"
            ]
          },
          "metadata": {
            "tags": []
          },
          "execution_count": 147
        }
      ]
    },
    {
      "cell_type": "code",
      "metadata": {
        "colab": {
          "base_uri": "https://localhost:8080/"
        },
        "id": "GjlGpCNx3hxD",
        "outputId": "888c10b7-31a9-4712-8b48-b868020947a0"
      },
      "source": [
        "num_theta, num_beta, num_k, train_acc_lst, val_acc_lst, train_nlld, val_nlld = train_category(number_train, number_valid, 20, 0.002, 0.25)"
      ],
      "execution_count": 150,
      "outputs": [
        {
          "output_type": "stream",
          "text": [
            "Step: 0 \n",
            " Train NLLK: 16988.18162538154, Train Score: 0.5937063773780561 \n",
            " Val NLLK: 2090.884066071254, Val Score: 0.5950145678213014\n",
            "Step: 1 \n",
            " Train NLLK: 14650.977050556268, Train Score: 0.6723966019223866 \n",
            " Val NLLK: 1818.0400683085538, Val Score: 0.6681774036905147\n",
            "Step: 2 \n",
            " Train NLLK: 14108.373145436564, Train Score: 0.6896262912296095 \n",
            " Val NLLK: 1766.365130259585, Val Score: 0.691485917772742\n",
            "Step: 3 \n",
            " Train NLLK: 13837.59131466964, Train Score: 0.7042236668926734 \n",
            " Val NLLK: 1745.1324749614162, Val Score: 0.7028164454516025\n",
            "Step: 4 \n",
            " Train NLLK: 13662.610575647177, Train Score: 0.7152714074901289 \n",
            " Val NLLK: 1729.9015644321382, Val Score: 0.7118808675946908\n",
            "Step: 5 \n",
            " Train NLLK: 13540.688686456886, Train Score: 0.7196585968970606 \n",
            " Val NLLK: 1722.3814978380956, Val Score: 0.716413078666235\n",
            "Step: 6 \n",
            " Train NLLK: 13451.878988114835, Train Score: 0.7243249710844335 \n",
            " Val NLLK: 1716.2327240465124, Val Score: 0.7202978310132729\n",
            "Step: 7 \n",
            " Train NLLK: 13384.040375597415, Train Score: 0.7262393810074582 \n",
            " Val NLLK: 1712.3477210640347, Val Score: 0.7209452897377793\n",
            "Step: 8 \n",
            " Train NLLK: 13330.546618676632, Train Score: 0.7288716946516173 \n",
            " Val NLLK: 1709.2357582908335, Val Score: 0.720621560375526\n",
            "Step: 9 \n",
            " Train NLLK: 13287.311428135592, Train Score: 0.7311051728951462 \n",
            " Val NLLK: 1707.017884362287, Val Score: 0.7202978310132729\n",
            "Step: 10 \n",
            " Train NLLK: 13251.743349004151, Train Score: 0.7317034259960914 \n",
            " Val NLLK: 1705.3995897544892, Val Score: 0.7212690191000324\n",
            "Step: 11 \n",
            " Train NLLK: 13222.017072961997, Train Score: 0.7325010967973518 \n",
            " Val NLLK: 1704.0858301659878, Val Score: 0.720621560375526\n",
            "Step: 12 \n",
            " Train NLLK: 13196.8623282222, Train Score: 0.7344952738005025 \n",
            " Val NLLK: 1703.2064695645715, Val Score: 0.7202978310132729\n",
            "Step: 13 \n",
            " Train NLLK: 13175.34130167793, Train Score: 0.7354125952219519 \n",
            " Val NLLK: 1702.4316000945605, Val Score: 0.7183554548397539\n",
            "Step: 14 \n",
            " Train NLLK: 13156.760593988485, Train Score: 0.735811430622582 \n",
            " Val NLLK: 1701.959716757254, Val Score: 0.7199741016510197\n",
            "Step: 15 \n",
            " Train NLLK: 13140.588237199956, Train Score: 0.735851314162645 \n",
            " Val NLLK: 1701.5430660455522, Val Score: 0.7202978310132729\n",
            "Step: 16 \n",
            " Train NLLK: 13126.410523274735, Train Score: 0.7360906154030231 \n",
            " Val NLLK: 1701.3375922016673, Val Score: 0.7193266429265134\n",
            "Step: 17 \n",
            " Train NLLK: 13113.898893557402, Train Score: 0.7362900331033383 \n",
            " Val NLLK: 1701.1807536758977, Val Score: 0.7199741016510197\n",
            "Step: 18 \n",
            " Train NLLK: 13102.789908102632, Train Score: 0.7362102660232123 \n",
            " Val NLLK: 1701.1668062744593, Val Score: 0.720621560375526\n",
            "Step: 19 \n",
            " Train NLLK: 13092.870721619793, Train Score: 0.7364096837235273 \n",
            " Val NLLK: 1701.1948387837585, Val Score: 0.720621560375526\n"
          ],
          "name": "stdout"
        }
      ]
    },
    {
      "cell_type": "code",
      "metadata": {
        "colab": {
          "base_uri": "https://localhost:8080/"
        },
        "id": "XBQXjKZr4Ock",
        "outputId": "ab6855cb-71ce-41d5-bb33-d4e4d6811224"
      },
      "source": [
        "new_eval(number_test, C, num_theta, num_beta, num_k)"
      ],
      "execution_count": 151,
      "outputs": [
        {
          "output_type": "execute_result",
          "data": {
            "text/plain": [
              "0.7182044887780549"
            ]
          },
          "metadata": {
            "tags": []
          },
          "execution_count": 151
        }
      ]
    },
    {
      "cell_type": "code",
      "metadata": {
        "colab": {
          "base_uri": "https://localhost:8080/"
        },
        "id": "ECr29-WB5P-j",
        "outputId": "bbe8ba01-55b0-4edc-e31f-4fcbbb631abe"
      },
      "source": [
        "sta_theta, sta_beta, sta_k, train_acc_lst, val_acc_lst, train_nlld, val_nlld = train_category(statistics_train, statistics_valid, 23, 0.0015, 0.25)"
      ],
      "execution_count": 165,
      "outputs": [
        {
          "output_type": "stream",
          "text": [
            "Step: 0 \n",
            " Train NLLK: 3457.4141642556087, Train Score: 0.6127100637434808 \n",
            " Val NLLK: 436.1104307157434, Val Score: 0.6146788990825688\n",
            "Step: 1 \n",
            " Train NLLK: 3131.5117859660427, Train Score: 0.6260382460884683 \n",
            " Val NLLK: 407.3585690703952, Val Score: 0.6253822629969419\n",
            "Step: 2 \n",
            " Train NLLK: 2989.462995759414, Train Score: 0.6581031485416264 \n",
            " Val NLLK: 395.3519927007386, Val Score: 0.6498470948012233\n",
            "Step: 3 \n",
            " Train NLLK: 2902.820168596804, Train Score: 0.6870774579872513 \n",
            " Val NLLK: 388.5613085792711, Val Score: 0.6590214067278287\n",
            "Step: 4 \n",
            " Train NLLK: 2842.479203987441, Train Score: 0.7040757195286845 \n",
            " Val NLLK: 384.18918215945524, Val Score: 0.6712538226299695\n",
            "Step: 5 \n",
            " Train NLLK: 2797.299982628916, Train Score: 0.7212671431330887 \n",
            " Val NLLK: 381.14084538277564, Val Score: 0.6880733944954128\n",
            "Step: 6 \n",
            " Train NLLK: 2761.8513234627935, Train Score: 0.7282209774000387 \n",
            " Val NLLK: 378.89806153494385, Val Score: 0.6865443425076453\n",
            "Step: 7 \n",
            " Train NLLK: 2733.1003686352847, Train Score: 0.7344021634151052 \n",
            " Val NLLK: 377.1846956953173, Val Score: 0.6788990825688074\n",
            "Step: 8 \n",
            " Train NLLK: 2709.1946098884832, Train Score: 0.7374927564226386 \n",
            " Val NLLK: 375.84012776980904, Val Score: 0.6865443425076453\n",
            "Step: 9 \n",
            " Train NLLK: 2688.9275535922666, Train Score: 0.7413559976820553 \n",
            " Val NLLK: 374.7642908299217, Val Score: 0.6926605504587156\n",
            "Step: 10 \n",
            " Train NLLK: 2671.47447620731, Train Score: 0.742901294185822 \n",
            " Val NLLK: 373.8913061736167, Val Score: 0.6941896024464832\n",
            "Step: 11 \n",
            " Train NLLK: 2656.249760432066, Train Score: 0.7434807803747344 \n",
            " Val NLLK: 373.1757925817885, Val Score: 0.6865443425076453\n",
            "Step: 12 \n",
            " Train NLLK: 2642.824557202854, Train Score: 0.7450260768785011 \n",
            " Val NLLK: 372.5853005719847, Val Score: 0.6926605504587156\n",
            "Step: 13 \n",
            " Train NLLK: 2630.87668804986, Train Score: 0.7457987251303844 \n",
            " Val NLLK: 372.095883059468, Val Score: 0.6926605504587156\n",
            "Step: 14 \n",
            " Train NLLK: 2620.1588339479617, Train Score: 0.7471508595711802 \n",
            " Val NLLK: 371.68940684048556, Val Score: 0.6957186544342507\n",
            "Step: 15 \n",
            " Train NLLK: 2610.4775914950797, Train Score: 0.7490824802008885 \n",
            " Val NLLK: 371.3518338718662, Val Score: 0.6941896024464832\n",
            "Step: 16 \n",
            " Train NLLK: 2601.6792893146066, Train Score: 0.7488893181379177 \n",
            " Val NLLK: 371.0720981016526, Val Score: 0.7003058103975535\n",
            "Step: 17 \n",
            " Train NLLK: 2593.640090089038, Train Score: 0.7490824802008885 \n",
            " Val NLLK: 370.84133717546746, Val Score: 0.7003058103975535\n",
            "Step: 18 \n",
            " Train NLLK: 2586.258958733027, Train Score: 0.7492756422638593 \n",
            " Val NLLK: 370.65236026990584, Val Score: 0.7048929663608563\n",
            "Step: 19 \n",
            " Train NLLK: 2579.452556659449, Train Score: 0.7486961560749469 \n",
            " Val NLLK: 370.4992733785817, Val Score: 0.7048929663608563\n",
            "Step: 20 \n",
            " Train NLLK: 2573.151463493702, Train Score: 0.7500482905157427 \n",
            " Val NLLK: 370.3771929081275, Val Score: 0.7003058103975535\n",
            "Step: 21 \n",
            " Train NLLK: 2567.297327045927, Train Score: 0.7521730732084219 \n",
            " Val NLLK: 370.2820390801604, Val Score: 0.7003058103975535\n",
            "Step: 22 \n",
            " Train NLLK: 2561.840717083807, Train Score: 0.7531388835232761 \n",
            " Val NLLK: 370.2103826203571, Val Score: 0.7003058103975535\n"
          ],
          "name": "stdout"
        }
      ]
    },
    {
      "cell_type": "code",
      "metadata": {
        "colab": {
          "base_uri": "https://localhost:8080/"
        },
        "id": "Azbs1p_O5a5W",
        "outputId": "e1658433-5246-4313-9fb0-003999937ad4"
      },
      "source": [
        "new_eval(statistics_test, C, sta_theta, sta_beta, sta_k)"
      ],
      "execution_count": 166,
      "outputs": [
        {
          "output_type": "execute_result",
          "data": {
            "text/plain": [
              "0.6918238993710691"
            ]
          },
          "metadata": {
            "tags": []
          },
          "execution_count": 166
        }
      ]
    },
    {
      "cell_type": "code",
      "metadata": {
        "colab": {
          "base_uri": "https://localhost:8080/"
        },
        "id": "NHrL6rgS5gp_",
        "outputId": "c7089bfd-2c76-4343-a48c-cf22a7e5c0b1"
      },
      "source": [
        "geo_theta, geo_beta, geo_k, train_acc_lst, val_acc_lst, train_nlld, val_nlld = train_category(geometry_train, geometry_valid, 12, 0.0015, 0.25)"
      ],
      "execution_count": 163,
      "outputs": [
        {
          "output_type": "stream",
          "text": [
            "Step: 0 \n",
            " Train NLLK: 9781.902479668563, Train Score: 0.5891715318320823 \n",
            " Val NLLK: 1234.010036426877, Val Score: 0.5913091309130913\n",
            "Step: 1 \n",
            " Train NLLK: 8494.98894684706, Train Score: 0.6501251042535446 \n",
            " Val NLLK: 1112.5942462527119, Val Score: 0.6507150715071507\n",
            "Step: 2 \n",
            " Train NLLK: 8154.341437209967, Train Score: 0.6768835140394773 \n",
            " Val NLLK: 1086.1154398928866, Val Score: 0.676017601760176\n",
            "Step: 3 \n",
            " Train NLLK: 7967.715467041529, Train Score: 0.6959966638865721 \n",
            " Val NLLK: 1073.5006537714019, Val Score: 0.6826182618261826\n",
            "Step: 4 \n",
            " Train NLLK: 7846.255194721766, Train Score: 0.7128857381150959 \n",
            " Val NLLK: 1066.5378188187308, Val Score: 0.6837183718371838\n",
            "Step: 5 \n",
            " Train NLLK: 7759.950853071328, Train Score: 0.7211565193216569 \n",
            " Val NLLK: 1062.5291056658193, Val Score: 0.6859185918591859\n",
            "Step: 6 \n",
            " Train NLLK: 7695.135391322452, Train Score: 0.7286627745343341 \n",
            " Val NLLK: 1060.1873377631293, Val Score: 0.693069306930693\n",
            "Step: 7 \n",
            " Train NLLK: 7644.54765084595, Train Score: 0.7329024186822352 \n",
            " Val NLLK: 1058.8634955133996, Val Score: 0.6985698569856986\n",
            "Step: 8 \n",
            " Train NLLK: 7603.917726528138, Train Score: 0.7366555462885738 \n",
            " Val NLLK: 1058.1921941528951, Val Score: 0.6991199119911992\n",
            "Step: 9 \n",
            " Train NLLK: 7570.550943250942, Train Score: 0.7383236030025021 \n",
            " Val NLLK: 1057.9555418131056, Val Score: 0.6985698569856986\n",
            "Step: 10 \n",
            " Train NLLK: 7542.654886876557, Train Score: 0.7406171809841534 \n",
            " Val NLLK: 1058.0160333703327, Val Score: 0.7018701870187019\n",
            "Step: 11 \n",
            " Train NLLK: 7518.987241869872, Train Score: 0.741729218793439 \n",
            " Val NLLK: 1058.2832333290326, Val Score: 0.7040704070407041\n"
          ],
          "name": "stdout"
        }
      ]
    },
    {
      "cell_type": "code",
      "metadata": {
        "colab": {
          "base_uri": "https://localhost:8080/"
        },
        "id": "sASXZgdF5xma",
        "outputId": "5499dc2c-2ba0-4dad-f2a3-d782ab9468a5"
      },
      "source": [
        "new_eval(geometry_test, C, geo_theta, geo_beta, geo_k)"
      ],
      "execution_count": 164,
      "outputs": [
        {
          "output_type": "execute_result",
          "data": {
            "text/plain": [
              "0.6962457337883959"
            ]
          },
          "metadata": {
            "tags": []
          },
          "execution_count": 164
        }
      ]
    },
    {
      "cell_type": "code",
      "metadata": {
        "colab": {
          "base_uri": "https://localhost:8080/"
        },
        "id": "kG5Ub9Kr9Myl",
        "outputId": "ae08dd8b-3185-4bb1-98a0-c6d7881f7e75"
      },
      "source": [
        "other_theta, other_beta, other_k, train_acc_lst, val_acc_lst, train_nlld, val_nlld = train_category(other_train, other_valid, 20, 0.0015, 0.25)"
      ],
      "execution_count": 187,
      "outputs": [
        {
          "output_type": "stream",
          "text": [
            "Step: 0 \n",
            " Train NLLK: 352.67595775665063, Train Score: 0.5610236220472441 \n",
            " Val NLLK: 40.54167671416844, Val Score: 0.5517241379310345\n",
            "Step: 1 \n",
            " Train NLLK: 335.38685103706257, Train Score: 0.5610236220472441 \n",
            " Val NLLK: 39.011171577731766, Val Score: 0.5517241379310345\n",
            "Step: 2 \n",
            " Train NLLK: 325.62649297154195, Train Score: 0.5610236220472441 \n",
            " Val NLLK: 38.41588366534773, Val Score: 0.5517241379310345\n",
            "Step: 3 \n",
            " Train NLLK: 318.0770137102112, Train Score: 0.5866141732283464 \n",
            " Val NLLK: 38.09614847126977, Val Score: 0.5517241379310345\n",
            "Step: 4 \n",
            " Train NLLK: 311.717439083919, Train Score: 0.6240157480314961 \n",
            " Val NLLK: 37.8948125494497, Val Score: 0.5689655172413793\n",
            "Step: 5 \n",
            " Train NLLK: 306.13634350678325, Train Score: 0.6633858267716536 \n",
            " Val NLLK: 37.755100186727745, Val Score: 0.603448275862069\n",
            "Step: 6 \n",
            " Train NLLK: 301.1179792953836, Train Score: 0.6850393700787402 \n",
            " Val NLLK: 37.651100414767285, Val Score: 0.5862068965517241\n",
            "Step: 7 \n",
            " Train NLLK: 296.53576025864504, Train Score: 0.7007874015748031 \n",
            " Val NLLK: 37.56976735484648, Val Score: 0.603448275862069\n",
            "Step: 8 \n",
            " Train NLLK: 292.3088853894769, Train Score: 0.7047244094488189 \n",
            " Val NLLK: 37.50410944027367, Val Score: 0.5862068965517241\n",
            "Step: 9 \n",
            " Train NLLK: 288.38188274864984, Train Score: 0.7283464566929134 \n",
            " Val NLLK: 37.45018543438112, Val Score: 0.603448275862069\n",
            "Step: 10 \n",
            " Train NLLK: 284.71422255216567, Train Score: 0.7283464566929134 \n",
            " Val NLLK: 37.405657851354405, Val Score: 0.603448275862069\n",
            "Step: 11 \n",
            " Train NLLK: 281.27474894822774, Train Score: 0.7480314960629921 \n",
            " Val NLLK: 37.369057424792175, Val Score: 0.6379310344827587\n",
            "Step: 12 \n",
            " Train NLLK: 278.0385438043267, Train Score: 0.7559055118110236 \n",
            " Val NLLK: 37.33939295354619, Val Score: 0.6379310344827587\n",
            "Step: 13 \n",
            " Train NLLK: 274.98507249631393, Train Score: 0.7578740157480315 \n",
            " Val NLLK: 37.31594255222682, Val Score: 0.6379310344827587\n",
            "Step: 14 \n",
            " Train NLLK: 272.0970263082656, Train Score: 0.7637795275590551 \n",
            " Val NLLK: 37.29814042595644, Val Score: 0.6379310344827587\n",
            "Step: 15 \n",
            " Train NLLK: 269.3595733766332, Train Score: 0.7795275590551181 \n",
            " Val NLLK: 37.28551452905259, Val Score: 0.6379310344827587\n",
            "Step: 16 \n",
            " Train NLLK: 266.75984033390847, Train Score: 0.7834645669291339 \n",
            " Val NLLK: 37.27765397827891, Val Score: 0.6379310344827587\n",
            "Step: 17 \n",
            " Train NLLK: 264.2865449786961, Train Score: 0.7874015748031497 \n",
            " Val NLLK: 37.27418991850669, Val Score: 0.6379310344827587\n",
            "Step: 18 \n",
            " Train NLLK: 261.9297195129107, Train Score: 0.7893700787401575 \n",
            " Val NLLK: 37.27478682249788, Val Score: 0.6379310344827587\n",
            "Step: 19 \n",
            " Train NLLK: 259.6805041643524, Train Score: 0.7913385826771654 \n",
            " Val NLLK: 37.27913568701364, Val Score: 0.6379310344827587\n"
          ],
          "name": "stdout"
        }
      ]
    },
    {
      "cell_type": "code",
      "metadata": {
        "colab": {
          "base_uri": "https://localhost:8080/"
        },
        "id": "HdB8Ttq655uH",
        "outputId": "6dab438d-7b52-43ea-e597-21f5736da589"
      },
      "source": [
        "all_theta, all_beta, all_k, train_acc_lst, val_acc_lst, train_nlld, val_nlld = train_category(train_data, val_data, 20, 0.001, 0.25)"
      ],
      "execution_count": 171,
      "outputs": [
        {
          "output_type": "stream",
          "text": [
            "Step: 0 \n",
            " Train NLLK: 38272.00023409504, Train Score: 0.5984335309060118 \n",
            " Val NLLK: 4775.5714064688855, Val Score: 0.6007620660457239\n",
            "Step: 1 \n",
            " Train NLLK: 33773.36175206723, Train Score: 0.6742520462884561 \n",
            " Val NLLK: 4267.8889145779785, Val Score: 0.6785210273779283\n",
            "Step: 2 \n",
            " Train NLLK: 32423.58326478415, Train Score: 0.6793677674287327 \n",
            " Val NLLK: 4114.19515671614, Val Score: 0.6800733841377364\n",
            "Step: 3 \n",
            " Train NLLK: 32047.78715351883, Train Score: 0.6957027942421676 \n",
            " Val NLLK: 4115.133272642183, Val Score: 0.6927744848998024\n",
            "Step: 4 \n",
            " Train NLLK: 31724.924983496818, Train Score: 0.6936212249506069 \n",
            " Val NLLK: 4068.0328114375966, Val Score: 0.6840248377081569\n",
            "Step: 5 \n",
            " Train NLLK: 31327.959438681828, Train Score: 0.7082274908269828 \n",
            " Val NLLK: 4054.2077687008796, Val Score: 0.7011007620660458\n",
            "Step: 6 \n",
            " Train NLLK: 31001.639253037705, Train Score: 0.7130080440304827 \n",
            " Val NLLK: 4016.782127808603, Val Score: 0.6974315551792266\n",
            "Step: 7 \n",
            " Train NLLK: 30882.26270483196, Train Score: 0.7162009596387242 \n",
            " Val NLLK: 4022.700088045414, Val Score: 0.7081569291560824\n",
            "Step: 8 \n",
            " Train NLLK: 30711.84556181076, Train Score: 0.7188117414620379 \n",
            " Val NLLK: 4004.9610504496763, Val Score: 0.6971493084956252\n",
            "Step: 9 \n",
            " Train NLLK: 30596.563808363502, Train Score: 0.7201347727914197 \n",
            " Val NLLK: 4009.24608105246, Val Score: 0.7074513124470787\n",
            "Step: 10 \n",
            " Train NLLK: 30495.2539252808, Train Score: 0.7228161162856337 \n",
            " Val NLLK: 3991.9047365254023, Val Score: 0.7002540220152413\n",
            "Step: 11 \n",
            " Train NLLK: 30366.345552675964, Train Score: 0.7248976855771945 \n",
            " Val NLLK: 3994.342007196195, Val Score: 0.7068868190798758\n",
            "Step: 12 \n",
            " Train NLLK: 30272.346397727408, Train Score: 0.727314422805532 \n",
            " Val NLLK: 3984.870974047401, Val Score: 0.7022297488004516\n",
            "Step: 13 \n",
            " Train NLLK: 30166.042430728838, Train Score: 0.7282317245272368 \n",
            " Val NLLK: 3982.8291346923334, Val Score: 0.709427039232289\n",
            "Step: 14 \n",
            " Train NLLK: 30099.874446746744, Train Score: 0.7307366638441999 \n",
            " Val NLLK: 3972.063462456987, Val Score: 0.7056167090036692\n",
            "Step: 15 \n",
            " Train NLLK: 30069.448772180433, Train Score: 0.7299957662997459 \n",
            " Val NLLK: 3979.645189697082, Val Score: 0.7105560259666949\n",
            "Step: 16 \n",
            " Train NLLK: 30039.702802368694, Train Score: 0.7314422805532035 \n",
            " Val NLLK: 3972.2288187137524, Val Score: 0.7056167090036692\n",
            "Step: 17 \n",
            " Train NLLK: 29955.926191826235, Train Score: 0.7318303697431555 \n",
            " Val NLLK: 3973.2113748505594, Val Score: 0.7114027660174993\n",
            "Step: 18 \n",
            " Train NLLK: 29935.899690900904, Train Score: 0.7330122777307366 \n",
            " Val NLLK: 3966.419151613858, Val Score: 0.7080158058142817\n",
            "Step: 19 \n",
            " Train NLLK: 29880.51902824245, Train Score: 0.7337178944397403 \n",
            " Val NLLK: 3970.378522496008, Val Score: 0.712108382726503\n"
          ],
          "name": "stdout"
        }
      ]
    },
    {
      "cell_type": "code",
      "metadata": {
        "colab": {
          "base_uri": "https://localhost:8080/"
        },
        "id": "FE-xnfoj8T2o",
        "outputId": "0ed0aee5-489d-440d-eb06-e33587ec3bf8"
      },
      "source": [
        "new_eval(statistics_test, C, sta_theta, sta_beta, sta_k)"
      ],
      "execution_count": 190,
      "outputs": [
        {
          "output_type": "execute_result",
          "data": {
            "text/plain": [
              "0.6918238993710691"
            ]
          },
          "metadata": {
            "tags": []
          },
          "execution_count": 190
        }
      ]
    },
    {
      "cell_type": "code",
      "metadata": {
        "colab": {
          "base_uri": "https://localhost:8080/"
        },
        "id": "q8rMEO0w9etx",
        "outputId": "cd7b2694-c460-481a-a048-d57421d04cac"
      },
      "source": [
        "new_eval(other_valid, C, geo_theta, geo_beta, geo_k)"
      ],
      "execution_count": 213,
      "outputs": [
        {
          "output_type": "execute_result",
          "data": {
            "text/plain": [
              "0.6428571428571429"
            ]
          },
          "metadata": {
            "tags": []
          },
          "execution_count": 213
        }
      ]
    },
    {
      "cell_type": "code",
      "metadata": {
        "colab": {
          "base_uri": "https://localhost:8080/"
        },
        "id": "1TEYHsRd-Go0",
        "outputId": "1c79557b-f584-4677-d672-bc65a5493745"
      },
      "source": [
        "theta = {\r\n",
        "    \"number\": num_theta,\r\n",
        "    \"algebra\": alg_theta,\r\n",
        "    \"geometry\": all_theta,\r\n",
        "    \"statistics\": all_theta,\r\n",
        "    \"other\": all_theta\r\n",
        "}\r\n",
        "beta = {\r\n",
        "    \"number\": num_beta,\r\n",
        "    \"algebra\": alg_beta,\r\n",
        "    \"geometry\": all_beta,\r\n",
        "    \"statistics\": all_beta,\r\n",
        "    \"other\": all_beta\r\n",
        "}\r\n",
        "k = {\r\n",
        "    \"number\": num_k,\r\n",
        "    \"algebra\": alg_k,\r\n",
        "    \"geometry\": all_k,\r\n",
        "    \"statistics\": all_k,\r\n",
        "    \"other\": all_k\r\n",
        "}\r\n",
        "\r\n",
        "test_cluster_model(test_data, 0.25, theta, beta, k)"
      ],
      "execution_count": 221,
      "outputs": [
        {
          "output_type": "execute_result",
          "data": {
            "text/plain": [
              "0.7143663561953147"
            ]
          },
          "metadata": {
            "tags": []
          },
          "execution_count": 221
        }
      ]
    },
    {
      "cell_type": "code",
      "metadata": {
        "id": "oCLJVZgJEtQL"
      },
      "source": [
        "result = private_test_cluster_model(private_test, 0.25, theta, beta, k)\r\n",
        "save_private_test_csv(result)"
      ],
      "execution_count": 222,
      "outputs": []
    },
    {
      "cell_type": "code",
      "metadata": {
        "colab": {
          "base_uri": "https://localhost:8080/"
        },
        "id": "FA0Ntfcdm6iA",
        "outputId": "fbc9e76f-1602-4885-ad53-fd5819d06c0f"
      },
      "source": [
        "correctness = (0.1+calc_correctness_percentage(_data))*10\r\n",
        "init_theta = np.array([0 for i in range(542)], dtype=np.float32)\r\n",
        "init_beta = np.array([0 for j in range(1774)], dtype=np.float32)\r\n",
        "init_k = correctness\r\n",
        "\r\n",
        "NUM_ITERS = 20\r\n",
        "LEARNING_RATE = 0.0015\r\n",
        "C = 0.25\r\n",
        "alg_theta, alg_beta, alg_k, train_acc_lst, val_acc_lst, train_nlld, val_nlld = new_irt(algebra_train, algebra_valid, C, LEARNING_RATE, NUM_ITERS, init_theta, init_beta, init_k)"
      ],
      "execution_count": 134,
      "outputs": [
        {
          "output_type": "stream",
          "text": [
            "Step: 0 \n",
            " Train NLLK: 8128.814661318239, Train Score: 0.6143431525395914 \n",
            " Val NLLK: 1024.7227034311363, Val Score: 0.6166341780376868\n",
            "Step: 1 \n",
            " Train NLLK: 6984.674517329807, Train Score: 0.6686633297776319 \n",
            " Val NLLK: 916.4097632290305, Val Score: 0.6640675763482781\n",
            "Step: 2 \n",
            " Train NLLK: 6697.569126303753, Train Score: 0.6959875276934439 \n",
            " Val NLLK: 894.6645898170179, Val Score: 0.682261208576998\n",
            "Step: 3 \n",
            " Train NLLK: 6540.239408606103, Train Score: 0.7125625666694019 \n",
            " Val NLLK: 886.008896722261, Val Score: 0.6796621182586094\n",
            "Step: 4 \n",
            " Train NLLK: 6436.776887813398, Train Score: 0.7235578895544432 \n",
            " Val NLLK: 881.1164350405439, Val Score: 0.6855100714749838\n",
            "Step: 5 \n",
            " Train NLLK: 6362.294254183627, Train Score: 0.7331582834167556 \n",
            " Val NLLK: 878.4844444492484, Val Score: 0.6894087069525666\n",
            "Step: 6 \n",
            " Train NLLK: 6305.626256739092, Train Score: 0.7396406006400262 \n",
            " Val NLLK: 877.0320315020722, Val Score: 0.6939571150097466\n",
            "Step: 7 \n",
            " Train NLLK: 6260.85032101809, Train Score: 0.7421022400919012 \n",
            " Val NLLK: 876.3377397785604, Val Score: 0.695906432748538\n",
            "Step: 8 \n",
            " Train NLLK: 6224.473719326962, Train Score: 0.7442356609501928 \n",
            " Val NLLK: 876.1300192740505, Val Score: 0.695906432748538\n",
            "Step: 9 \n",
            " Train NLLK: 6194.279610212328, Train Score: 0.7480101747764011 \n",
            " Val NLLK: 876.2510803806397, Val Score: 0.6926575698505523\n",
            "Step: 10 \n",
            " Train NLLK: 6168.7827309341665, Train Score: 0.7507179781734635 \n",
            " Val NLLK: 876.5980215105386, Val Score: 0.6900584795321637\n",
            "Step: 11 \n",
            " Train NLLK: 6146.945696700634, Train Score: 0.7518667432510052 \n",
            " Val NLLK: 877.102400773576, Val Score: 0.6952566601689408\n",
            "Step: 12 \n",
            " Train NLLK: 6128.019638832966, Train Score: 0.7528513990317551 \n",
            " Val NLLK: 877.7170328940512, Val Score: 0.6978557504873294\n",
            "Step: 13 \n",
            " Train NLLK: 6111.449184041522, Train Score: 0.753425781570526 \n",
            " Val NLLK: 878.4086363245113, Val Score: 0.6972059779077323\n",
            "Step: 14 \n",
            " Train NLLK: 6096.813119937597, Train Score: 0.7545745466480677 \n",
            " Val NLLK: 879.1532900279906, Val Score: 0.6952566601689408\n",
            "Step: 15 \n",
            " Train NLLK: 6083.78583537247, Train Score: 0.7553130384836301 \n",
            " Val NLLK: 879.9335432801217, Val Score: 0.6972059779077323\n",
            "Step: 16 \n",
            " Train NLLK: 6072.111458213614, Train Score: 0.7558874210224009 \n",
            " Val NLLK: 880.7365233155209, Val Score: 0.6972059779077323\n",
            "Step: 17 \n",
            " Train NLLK: 6061.5860245366675, Train Score: 0.7563797489127759 \n",
            " Val NLLK: 881.5526498650884, Val Score: 0.695906432748538\n",
            "Step: 18 \n",
            " Train NLLK: 6052.044867750206, Train Score: 0.7558874210224009 \n",
            " Val NLLK: 882.3747661648207, Val Score: 0.6965562053281351\n",
            "Step: 19 \n",
            " Train NLLK: 6043.353561755061, Train Score: 0.7567079675063593 \n",
            " Val NLLK: 883.1974984408571, Val Score: 0.695906432748538\n"
          ],
          "name": "stdout"
        }
      ]
    },
    {
      "cell_type": "code",
      "metadata": {
        "id": "zhffilhDqo5_"
      },
      "source": [
        "theta, beta, k, train_acc_lst, val_acc_lst, train_nlld, val_nlld = new_irt(train_data, val_data, C, 0.0009, 5, theta, beta, k)"
      ],
      "execution_count": 16,
      "outputs": []
    },
    {
      "cell_type": "code",
      "metadata": {
        "colab": {
          "base_uri": "https://localhost:8080/"
        },
        "id": "EBdeHMpLqib9",
        "outputId": "1a33d1c9-eb1f-470a-f977-113229bddb84"
      },
      "source": [
        "new_eval(algebra_test, C, theta, beta, k)"
      ],
      "execution_count": 135,
      "outputs": [
        {
          "output_type": "execute_result",
          "data": {
            "text/plain": [
              "0.718421052631579"
            ]
          },
          "metadata": {
            "tags": []
          },
          "execution_count": 135
        }
      ]
    },
    {
      "cell_type": "code",
      "metadata": {
        "id": "bfjNBKWywAmh"
      },
      "source": [
        ""
      ],
      "execution_count": null,
      "outputs": []
    },
    {
      "cell_type": "code",
      "metadata": {
        "id": "EhE0MOeJsaUf"
      },
      "source": [
        "length = len(other_train[\"is_correct\"])\r\n",
        "data_points = []\r\n",
        "for i in range(length):\r\n",
        "  data_points.append((other_train[\"user_id\"][i], other_train[\"question_id\"][i], other_train[\"is_correct\"][i]))"
      ],
      "execution_count": 223,
      "outputs": []
    },
    {
      "cell_type": "code",
      "metadata": {
        "id": "VtTJhuEwslyr"
      },
      "source": [
        "sample1 = random.choices(data_points, k=len(data_points))\r\n",
        "sample2 = random.choices(data_points, k=len(data_points))\r\n",
        "sample3 = random.choices(data_points, k=len(data_points))\r\n",
        "sample4 = random.choices(data_points, k=len(data_points))\r\n",
        "sample5 = random.choices(data_points, k=len(data_points))"
      ],
      "execution_count": 224,
      "outputs": []
    },
    {
      "cell_type": "code",
      "metadata": {
        "id": "uyeKNjXutvgN"
      },
      "source": [
        "def datapoint2dict(sample):\r\n",
        "  length = len(sample)\r\n",
        "  result = {\"user_id\":[], \"question_id\":[], \"is_correct\":[]}\r\n",
        "  for i in range(length):\r\n",
        "    result[\"user_id\"].append(sample[i][0])\r\n",
        "    result[\"question_id\"].append(sample[i][1])\r\n",
        "    result[\"is_correct\"].append(sample[i][2])\r\n",
        "  return result"
      ],
      "execution_count": 92,
      "outputs": []
    },
    {
      "cell_type": "code",
      "metadata": {
        "id": "Zvp4n0A1uLjB"
      },
      "source": [
        "sample1 = datapoint2dict(sample1)\r\n",
        "sample2 = datapoint2dict(sample2)\r\n",
        "sample3 = datapoint2dict(sample3)\r\n",
        "sample4 = datapoint2dict(sample4)\r\n",
        "sample5 = datapoint2dict(sample5)"
      ],
      "execution_count": 225,
      "outputs": []
    },
    {
      "cell_type": "code",
      "metadata": {
        "colab": {
          "base_uri": "https://localhost:8080/"
        },
        "id": "ZO-xgwzitfM5",
        "outputId": "5c486413-fa10-4768-eaba-ceb979b9afd2"
      },
      "source": [
        "correctness = (0.1+calc_correctness_percentage(sample1))*5\r\n",
        "init_theta = np.array([0 for i in range(542)], dtype=np.float32)\r\n",
        "init_beta = np.array([0 for j in range(1774)], dtype=np.float32)\r\n",
        "init_k = correctness\r\n",
        "\r\n",
        "NUM_ITERS = 37\r\n",
        "LEARNING_RATE = 0.005\r\n",
        "C = 0.25\r\n",
        "theta1, beta1, k1, train_acc_lst, val_acc_lst, train_nlld, val_nlld = new_irt(sample1, other_valid, C, LEARNING_RATE, NUM_ITERS, init_theta, init_beta, init_k)"
      ],
      "execution_count": 234,
      "outputs": [
        {
          "output_type": "stream",
          "text": [
            "Step: 0 \n",
            " Train NLLK: 358.80586524184287, Train Score: 0.5374015748031497 \n",
            " Val NLLK: 40.54167671416844, Val Score: 0.5517241379310345\n",
            "Step: 1 \n",
            " Train NLLK: 340.02819740911445, Train Score: 0.5374015748031497 \n",
            " Val NLLK: 39.344028409433264, Val Score: 0.5517241379310345\n",
            "Step: 2 \n",
            " Train NLLK: 326.77815027883423, Train Score: 0.5393700787401575 \n",
            " Val NLLK: 38.64098970168451, Val Score: 0.5517241379310345\n",
            "Step: 3 \n",
            " Train NLLK: 316.5609109600379, Train Score: 0.5708661417322834 \n",
            " Val NLLK: 38.19915521471594, Val Score: 0.5517241379310345\n",
            "Step: 4 \n",
            " Train NLLK: 308.16836590422935, Train Score: 0.6614173228346457 \n",
            " Val NLLK: 37.89742270071134, Val Score: 0.5689655172413793\n",
            "Step: 5 \n",
            " Train NLLK: 300.9888399153471, Train Score: 0.687007874015748 \n",
            " Val NLLK: 37.676938418689176, Val Score: 0.6206896551724138\n",
            "Step: 6 \n",
            " Train NLLK: 294.6758463492927, Train Score: 0.7106299212598425 \n",
            " Val NLLK: 37.507165903730865, Val Score: 0.6379310344827587\n",
            "Step: 7 \n",
            " Train NLLK: 289.0159480386457, Train Score: 0.734251968503937 \n",
            " Val NLLK: 37.37112536171459, Val Score: 0.6379310344827587\n",
            "Step: 8 \n",
            " Train NLLK: 283.8694337139187, Train Score: 0.7519685039370079 \n",
            " Val NLLK: 37.25879129740474, Val Score: 0.6206896551724138\n",
            "Step: 9 \n",
            " Train NLLK: 279.14030607808485, Train Score: 0.7716535433070866 \n",
            " Val NLLK: 37.163922674545766, Val Score: 0.6379310344827587\n",
            "Step: 10 \n",
            " Train NLLK: 274.7597994030093, Train Score: 0.7893700787401575 \n",
            " Val NLLK: 37.082448494994765, Val Score: 0.6379310344827587\n",
            "Step: 11 \n",
            " Train NLLK: 270.6768149682755, Train Score: 0.7952755905511811 \n",
            " Val NLLK: 37.01160252142958, Val Score: 0.6551724137931034\n",
            "Step: 12 \n",
            " Train NLLK: 266.85213209406584, Train Score: 0.8051181102362205 \n",
            " Val NLLK: 36.949438554028404, Val Score: 0.6551724137931034\n",
            "Step: 13 \n",
            " Train NLLK: 263.2547907388972, Train Score: 0.8169291338582677 \n",
            " Val NLLK: 36.894545027189785, Val Score: 0.6551724137931034\n",
            "Step: 14 \n",
            " Train NLLK: 259.8597566531019, Train Score: 0.8090551181102362 \n",
            " Val NLLK: 36.845870933402765, Val Score: 0.6551724137931034\n",
            "Step: 15 \n",
            " Train NLLK: 256.6463710127695, Train Score: 0.8188976377952756 \n",
            " Val NLLK: 36.8026155282238, Val Score: 0.6724137931034483\n",
            "Step: 16 \n",
            " Train NLLK: 253.59729057030106, Train Score: 0.8188976377952756 \n",
            " Val NLLK: 36.76415489744819, Val Score: 0.6724137931034483\n",
            "Step: 17 \n",
            " Train NLLK: 250.69774869317126, Train Score: 0.8208661417322834 \n",
            " Val NLLK: 36.7299928932743, Val Score: 0.6724137931034483\n",
            "Step: 18 \n",
            " Train NLLK: 247.93501535446296, Train Score: 0.8208661417322834 \n",
            " Val NLLK: 36.69972672611225, Val Score: 0.6724137931034483\n",
            "Step: 19 \n",
            " Train NLLK: 245.29800951977808, Train Score: 0.8208661417322834 \n",
            " Val NLLK: 36.673023567472676, Val Score: 0.6724137931034483\n",
            "Step: 20 \n",
            " Train NLLK: 242.77699880800068, Train Score: 0.8366141732283464 \n",
            " Val NLLK: 36.64960289350627, Val Score: 0.6724137931034483\n",
            "Step: 21 \n",
            " Train NLLK: 240.3633749726206, Train Score: 0.8366141732283464 \n",
            " Val NLLK: 36.62922447565025, Val Score: 0.6551724137931034\n",
            "Step: 22 \n",
            " Train NLLK: 238.04947373952217, Train Score: 0.8464566929133859 \n",
            " Val NLLK: 36.61167883532584, Val Score: 0.6551724137931034\n",
            "Step: 23 \n",
            " Train NLLK: 235.82843144737726, Train Score: 0.8464566929133859 \n",
            " Val NLLK: 36.59678142466306, Val Score: 0.6551724137931034\n",
            "Step: 24 \n",
            " Train NLLK: 233.69407789825738, Train Score: 0.844488188976378 \n",
            " Val NLLK: 36.58436657014959, Val Score: 0.6551724137931034\n",
            "Step: 25 \n",
            " Train NLLK: 231.64083500466384, Train Score: 0.8464566929133859 \n",
            " Val NLLK: 36.57428573316971, Val Score: 0.6551724137931034\n",
            "Step: 26 \n",
            " Train NLLK: 229.66364364321353, Train Score: 0.84251968503937 \n",
            " Val NLLK: 36.5664032820049, Val Score: 0.6551724137931034\n",
            "Step: 27 \n",
            " Train NLLK: 227.75789862396965, Train Score: 0.84251968503937 \n",
            " Val NLLK: 36.56059487025208, Val Score: 0.6724137931034483\n",
            "Step: 28 \n",
            " Train NLLK: 225.9193954846372, Train Score: 0.84251968503937 \n",
            " Val NLLK: 36.55674637804803, Val Score: 0.6724137931034483\n",
            "Step: 29 \n",
            " Train NLLK: 224.1442812781095, Train Score: 0.8484251968503937 \n",
            " Val NLLK: 36.55475229520263, Val Score: 0.6724137931034483\n",
            "Step: 30 \n",
            " Train NLLK: 222.42901980915295, Train Score: 0.8484251968503937 \n",
            " Val NLLK: 36.55451494886544, Val Score: 0.6724137931034483\n",
            "Step: 31 \n",
            " Train NLLK: 220.77035263965126, Train Score: 0.8484251968503937 \n",
            " Val NLLK: 36.555944100693026, Val Score: 0.6724137931034483\n",
            "Step: 32 \n",
            " Train NLLK: 219.16527259978116, Train Score: 0.860236220472441 \n",
            " Val NLLK: 36.55895540520356, Val Score: 0.6724137931034483\n",
            "Step: 33 \n",
            " Train NLLK: 217.6109985978365, Train Score: 0.860236220472441 \n",
            " Val NLLK: 36.56347101863977, Val Score: 0.6724137931034483\n",
            "Step: 34 \n",
            " Train NLLK: 216.1049517123122, Train Score: 0.860236220472441 \n",
            " Val NLLK: 36.56941835268283, Val Score: 0.6896551724137931\n",
            "Step: 35 \n",
            " Train NLLK: 214.64473673497452, Train Score: 0.8641732283464567 \n",
            " Val NLLK: 36.57673013050969, Val Score: 0.6896551724137931\n",
            "Step: 36 \n",
            " Train NLLK: 213.22812408273643, Train Score: 0.8661417322834646 \n",
            " Val NLLK: 36.58534353699431, Val Score: 0.6896551724137931\n"
          ],
          "name": "stdout"
        }
      ]
    },
    {
      "cell_type": "code",
      "metadata": {
        "colab": {
          "base_uri": "https://localhost:8080/"
        },
        "id": "1qN610BnvCKC",
        "outputId": "540524bf-b86d-4b86-d5ab-a7fd6d41e190"
      },
      "source": [
        "correctness = (0.1+calc_correctness_percentage(sample2))*5\r\n",
        "init_theta = np.array([0 for i in range(542)], dtype=np.float32)\r\n",
        "init_beta = np.array([0 for j in range(1774)], dtype=np.float32)\r\n",
        "init_k = correctness\r\n",
        "\r\n",
        "NUM_ITERS = 37\r\n",
        "LEARNING_RATE = 0.0025\r\n",
        "C = 0.25\r\n",
        "theta2, beta2, k2, train_acc_lst, val_acc_lst, train_nlld, val_nlld = new_irt(sample2, other_valid, C, LEARNING_RATE, NUM_ITERS, init_theta, init_beta, init_k)"
      ],
      "execution_count": 239,
      "outputs": [
        {
          "output_type": "stream",
          "text": [
            "Step: 0 \n",
            " Train NLLK: 352.16513213288476, Train Score: 0.562992125984252 \n",
            " Val NLLK: 40.54167671416844, Val Score: 0.5517241379310345\n",
            "Step: 1 \n",
            " Train NLLK: 340.3034463055558, Train Score: 0.562992125984252 \n",
            " Val NLLK: 39.9750459250709, Val Score: 0.5517241379310345\n",
            "Step: 2 \n",
            " Train NLLK: 330.79247825017444, Train Score: 0.562992125984252 \n",
            " Val NLLK: 39.61761147325051, Val Score: 0.5517241379310345\n",
            "Step: 3 \n",
            " Train NLLK: 322.9070512240169, Train Score: 0.562992125984252 \n",
            " Val NLLK: 39.39696094318149, Val Score: 0.5517241379310345\n",
            "Step: 4 \n",
            " Train NLLK: 316.1432369635792, Train Score: 0.5728346456692913 \n",
            " Val NLLK: 39.25983450495286, Val Score: 0.5517241379310345\n",
            "Step: 5 \n",
            " Train NLLK: 310.19093604572976, Train Score: 0.5748031496062992 \n",
            " Val NLLK: 39.173264522982315, Val Score: 0.5517241379310345\n",
            "Step: 6 \n",
            " Train NLLK: 304.85605906091746, Train Score: 0.594488188976378 \n",
            " Val NLLK: 39.11764354986249, Val Score: 0.5689655172413793\n",
            "Step: 7 \n",
            " Train NLLK: 300.0103027052915, Train Score: 0.6122047244094488 \n",
            " Val NLLK: 39.081270547168934, Val Score: 0.5689655172413793\n",
            "Step: 8 \n",
            " Train NLLK: 295.56393714831086, Train Score: 0.655511811023622 \n",
            " Val NLLK: 39.05705519255728, Val Score: 0.5862068965517241\n",
            "Step: 9 \n",
            " Train NLLK: 291.45115310500086, Train Score: 0.6633858267716536 \n",
            " Val NLLK: 39.04062665797451, Val Score: 0.5862068965517241\n",
            "Step: 10 \n",
            " Train NLLK: 287.6218494112729, Train Score: 0.6791338582677166 \n",
            " Val NLLK: 39.02924857573866, Val Score: 0.5689655172413793\n",
            "Step: 11 \n",
            " Train NLLK: 284.0367768213423, Train Score: 0.7066929133858267 \n",
            " Val NLLK: 39.02118621043631, Val Score: 0.603448275862069\n",
            "Step: 12 \n",
            " Train NLLK: 280.6645069241634, Train Score: 0.7086614173228346 \n",
            " Val NLLK: 39.015331010077865, Val Score: 0.6206896551724138\n",
            "Step: 13 \n",
            " Train NLLK: 277.4794370750068, Train Score: 0.7244094488188977 \n",
            " Val NLLK: 39.010971543565574, Val Score: 0.5862068965517241\n",
            "Step: 14 \n",
            " Train NLLK: 274.4604205789792, Train Score: 0.7421259842519685 \n",
            " Val NLLK: 39.007653930543206, Val Score: 0.5689655172413793\n",
            "Step: 15 \n",
            " Train NLLK: 271.58978761732476, Train Score: 0.7519685039370079 \n",
            " Val NLLK: 39.00509234111198, Val Score: 0.5517241379310345\n",
            "Step: 16 \n",
            " Train NLLK: 268.8526274040561, Train Score: 0.7755905511811023 \n",
            " Val NLLK: 39.0031126715916, Val Score: 0.5689655172413793\n",
            "Step: 17 \n",
            " Train NLLK: 266.23624848959184, Train Score: 0.7874015748031497 \n",
            " Val NLLK: 39.001615509652346, Val Score: 0.5689655172413793\n",
            "Step: 18 \n",
            " Train NLLK: 263.7297605518321, Train Score: 0.7893700787401575 \n",
            " Val NLLK: 39.00055057963009, Val Score: 0.5689655172413793\n",
            "Step: 19 \n",
            " Train NLLK: 261.3237545579332, Train Score: 0.7952755905511811 \n",
            " Val NLLK: 38.99990201867358, Val Score: 0.5517241379310345\n",
            "Step: 20 \n",
            " Train NLLK: 259.010045087994, Train Score: 0.8011811023622047 \n",
            " Val NLLK: 38.99967597066957, Val Score: 0.5517241379310345\n",
            "Step: 21 \n",
            " Train NLLK: 256.78146793214677, Train Score: 0.8031496062992126 \n",
            " Val NLLK: 38.99989217228567, Val Score: 0.5517241379310345\n",
            "Step: 22 \n",
            " Train NLLK: 254.6317180724043, Train Score: 0.8149606299212598 \n",
            " Val NLLK: 39.00057988986522, Val Score: 0.5517241379310345\n",
            "Step: 23 \n",
            " Train NLLK: 252.5552132497958, Train Score: 0.8169291338582677 \n",
            " Val NLLK: 39.001772870327876, Val Score: 0.5517241379310345\n",
            "Step: 24 \n",
            " Train NLLK: 250.54699079532662, Train Score: 0.8169291338582677 \n",
            " Val NLLK: 39.00350752455917, Val Score: 0.5689655172413793\n",
            "Step: 25 \n",
            " Train NLLK: 248.6026128614751, Train Score: 0.8267716535433071 \n",
            " Val NLLK: 39.00582017299349, Val Score: 0.5689655172413793\n",
            "Step: 26 \n",
            " Train NLLK: 246.71809699949782, Train Score: 0.8267716535433071 \n",
            " Val NLLK: 39.008746809509006, Val Score: 0.5689655172413793\n",
            "Step: 27 \n",
            " Train NLLK: 244.8898519622149, Train Score: 0.8267716535433071 \n",
            " Val NLLK: 39.012320803395106, Val Score: 0.5689655172413793\n",
            "Step: 28 \n",
            " Train NLLK: 243.11462859483828, Train Score: 0.8287401574803149 \n",
            " Val NLLK: 39.0165737636689, Val Score: 0.5689655172413793\n",
            "Step: 29 \n",
            " Train NLLK: 241.38947247258108, Train Score: 0.8307086614173228 \n",
            " Val NLLK: 39.0215340805815, Val Score: 0.5689655172413793\n",
            "Step: 30 \n",
            " Train NLLK: 239.71169369468873, Train Score: 0.8346456692913385 \n",
            " Val NLLK: 39.027227007762356, Val Score: 0.5862068965517241\n",
            "Step: 31 \n",
            " Train NLLK: 238.07882819606954, Train Score: 0.8346456692913385 \n",
            " Val NLLK: 39.033675094713594, Val Score: 0.5862068965517241\n",
            "Step: 32 \n",
            " Train NLLK: 236.48861752511948, Train Score: 0.8366141732283464 \n",
            " Val NLLK: 39.04089766052577, Val Score: 0.5862068965517241\n",
            "Step: 33 \n",
            " Train NLLK: 234.93898194143742, Train Score: 0.8307086614173228 \n",
            " Val NLLK: 39.048910609703874, Val Score: 0.5862068965517241\n",
            "Step: 34 \n",
            " Train NLLK: 233.42800351346608, Train Score: 0.8346456692913385 \n",
            " Val NLLK: 39.057727135098574, Val Score: 0.5862068965517241\n",
            "Step: 35 \n",
            " Train NLLK: 231.95390571430457, Train Score: 0.8346456692913385 \n",
            " Val NLLK: 39.06735731480725, Val Score: 0.5862068965517241\n",
            "Step: 36 \n",
            " Train NLLK: 230.51504222223497, Train Score: 0.8346456692913385 \n",
            " Val NLLK: 39.077809446882235, Val Score: 0.5862068965517241\n"
          ],
          "name": "stdout"
        }
      ]
    },
    {
      "cell_type": "code",
      "metadata": {
        "colab": {
          "base_uri": "https://localhost:8080/"
        },
        "id": "PHLkFEoowgX9",
        "outputId": "c13c0707-5848-498a-de54-0c7b7cfc5af5"
      },
      "source": [
        "correctness = (0.1+calc_correctness_percentage(sample3))*5\r\n",
        "init_theta = np.array([0 for i in range(542)], dtype=np.float32)\r\n",
        "init_beta = np.array([0 for j in range(1774)], dtype=np.float32)\r\n",
        "init_k = correctness\r\n",
        "\r\n",
        "NUM_ITERS = 37\r\n",
        "LEARNING_RATE = 0.001\r\n",
        "C = 0.25\r\n",
        "theta3, beta3, k3, train_acc_lst, val_acc_lst, train_nlld, val_nlld = new_irt(sample3, other_valid, C, LEARNING_RATE, NUM_ITERS, init_theta, init_beta, init_k)"
      ],
      "execution_count": 247,
      "outputs": [
        {
          "output_type": "stream",
          "text": [
            "Step: 0 \n",
            " Train NLLK: 348.0785271427566, Train Score: 0.5787401574803149 \n",
            " Val NLLK: 40.54167671416844, Val Score: 0.5517241379310345\n",
            "Step: 1 \n",
            " Train NLLK: 344.0519844531861, Train Score: 0.5787401574803149 \n",
            " Val NLLK: 40.27984921077136, Val Score: 0.5517241379310345\n",
            "Step: 2 \n",
            " Train NLLK: 340.4213113162512, Train Score: 0.5787401574803149 \n",
            " Val NLLK: 40.056519065803066, Val Score: 0.5517241379310345\n",
            "Step: 3 \n",
            " Train NLLK: 337.13026816709976, Train Score: 0.5787401574803149 \n",
            " Val NLLK: 39.86704732485355, Val Score: 0.5517241379310345\n",
            "Step: 4 \n",
            " Train NLLK: 334.12297793697235, Train Score: 0.5787401574803149 \n",
            " Val NLLK: 39.70650786964199, Val Score: 0.5517241379310345\n",
            "Step: 5 \n",
            " Train NLLK: 331.35006722521956, Train Score: 0.5787401574803149 \n",
            " Val NLLK: 39.570299209609026, Val Score: 0.5517241379310345\n",
            "Step: 6 \n",
            " Train NLLK: 328.77055646116975, Train Score: 0.5787401574803149 \n",
            " Val NLLK: 39.45440742225175, Val Score: 0.5517241379310345\n",
            "Step: 7 \n",
            " Train NLLK: 326.35151964388314, Train Score: 0.5787401574803149 \n",
            " Val NLLK: 39.35545827208768, Val Score: 0.5517241379310345\n",
            "Step: 8 \n",
            " Train NLLK: 324.0668886341526, Train Score: 0.5787401574803149 \n",
            " Val NLLK: 39.270669570346314, Val Score: 0.5517241379310345\n",
            "Step: 9 \n",
            " Train NLLK: 321.8961021853625, Train Score: 0.5787401574803149 \n",
            " Val NLLK: 39.197766797524686, Val Score: 0.5517241379310345\n",
            "Step: 10 \n",
            " Train NLLK: 319.8229017887638, Train Score: 0.5787401574803149 \n",
            " Val NLLK: 39.13489465363614, Val Score: 0.5517241379310345\n",
            "Step: 11 \n",
            " Train NLLK: 317.8343462097007, Train Score: 0.5787401574803149 \n",
            " Val NLLK: 39.08053785115082, Val Score: 0.5517241379310345\n",
            "Step: 12 \n",
            " Train NLLK: 315.9200471963038, Train Score: 0.5787401574803149 \n",
            " Val NLLK: 39.033453848725195, Val Score: 0.5517241379310345\n",
            "Step: 13 \n",
            " Train NLLK: 314.071582113925, Train Score: 0.5787401574803149 \n",
            " Val NLLK: 38.992619229112755, Val Score: 0.5517241379310345\n",
            "Step: 14 \n",
            " Train NLLK: 312.2820556605513, Train Score: 0.5787401574803149 \n",
            " Val NLLK: 38.95718630022709, Val Score: 0.5517241379310345\n",
            "Step: 15 \n",
            " Train NLLK: 310.545761909298, Train Score: 0.5846456692913385 \n",
            " Val NLLK: 38.92644869199735, Val Score: 0.5517241379310345\n",
            "Step: 16 \n",
            " Train NLLK: 308.8579350564481, Train Score: 0.5984251968503937 \n",
            " Val NLLK: 38.89981431471115, Val Score: 0.5517241379310345\n",
            "Step: 17 \n",
            " Train NLLK: 307.21455458335333, Train Score: 0.5984251968503937 \n",
            " Val NLLK: 38.87678437475358, Val Score: 0.5517241379310345\n",
            "Step: 18 \n",
            " Train NLLK: 305.6121973827543, Train Score: 0.6003937007874016 \n",
            " Val NLLK: 38.8569356087077, Val Score: 0.5517241379310345\n",
            "Step: 19 \n",
            " Train NLLK: 304.0479262487086, Train Score: 0.6043307086614174 \n",
            " Val NLLK: 38.83990721836585, Val Score: 0.5517241379310345\n",
            "Step: 20 \n",
            " Train NLLK: 302.51919617040426, Train Score: 0.6181102362204725 \n",
            " Val NLLK: 38.82538989741648, Val Score: 0.5517241379310345\n",
            "Step: 21 \n",
            " Train NLLK: 301.0237881777135, Train Score: 0.6200787401574803 \n",
            " Val NLLK: 38.81311707657969, Val Score: 0.5517241379310345\n",
            "Step: 22 \n",
            " Train NLLK: 299.559752283136, Train Score: 0.6299212598425197 \n",
            " Val NLLK: 38.80285786036173, Val Score: 0.5689655172413793\n",
            "Step: 23 \n",
            " Train NLLK: 298.1253627999339, Train Score: 0.6299212598425197 \n",
            " Val NLLK: 38.79441127859157, Val Score: 0.5689655172413793\n",
            "Step: 24 \n",
            " Train NLLK: 296.7190847216112, Train Score: 0.639763779527559 \n",
            " Val NLLK: 38.78760151534413, Val Score: 0.5689655172413793\n",
            "Step: 25 \n",
            " Train NLLK: 295.3395406662717, Train Score: 0.639763779527559 \n",
            " Val NLLK: 38.78227414852361, Val Score: 0.5689655172413793\n",
            "Step: 26 \n",
            " Train NLLK: 293.9854919050238, Train Score: 0.6437007874015748 \n",
            " Val NLLK: 38.77829283886437, Val Score: 0.5689655172413793\n",
            "Step: 27 \n",
            " Train NLLK: 292.65581668253736, Train Score: 0.6437007874015748 \n",
            " Val NLLK: 38.77553671849491, Val Score: 0.5689655172413793\n",
            "Step: 28 \n",
            " Train NLLK: 291.3494931189377, Train Score: 0.6673228346456693 \n",
            " Val NLLK: 38.77389845792135, Val Score: 0.5689655172413793\n",
            "Step: 29 \n",
            " Train NLLK: 290.0655877084418, Train Score: 0.6791338582677166 \n",
            " Val NLLK: 38.773282130493, Val Score: 0.5689655172413793\n",
            "Step: 30 \n",
            " Train NLLK: 288.80324326663, Train Score: 0.6830708661417323 \n",
            " Val NLLK: 38.773601778176165, Val Score: 0.5517241379310345\n",
            "Step: 31 \n",
            " Train NLLK: 287.56167025580277, Train Score: 0.6889763779527559 \n",
            " Val NLLK: 38.77478012693088, Val Score: 0.5517241379310345\n",
            "Step: 32 \n",
            " Train NLLK: 286.34013706060546, Train Score: 0.6968503937007874 \n",
            " Val NLLK: 38.77674731979951, Val Score: 0.5517241379310345\n",
            "Step: 33 \n",
            " Train NLLK: 285.1379642168509, Train Score: 0.702755905511811 \n",
            " Val NLLK: 38.77944034072937, Val Score: 0.5517241379310345\n",
            "Step: 34 \n",
            " Train NLLK: 283.9545200210758, Train Score: 0.7125984251968503 \n",
            " Val NLLK: 38.782802049666195, Val Score: 0.5517241379310345\n",
            "Step: 35 \n",
            " Train NLLK: 282.7892119135522, Train Score: 0.7125984251968503 \n",
            " Val NLLK: 38.7867803709725, Val Score: 0.5517241379310345\n",
            "Step: 36 \n",
            " Train NLLK: 281.6414869237699, Train Score: 0.7204724409448819 \n",
            " Val NLLK: 38.7913277855562, Val Score: 0.5689655172413793\n"
          ],
          "name": "stdout"
        }
      ]
    },
    {
      "cell_type": "code",
      "metadata": {
        "id": "jI9eeNO3HyDI"
      },
      "source": [
        ""
      ],
      "execution_count": null,
      "outputs": []
    },
    {
      "cell_type": "code",
      "metadata": {
        "id": "zKUe4cUcuqyd"
      },
      "source": [
        "def evaluate_ensemble(data, c, theta_lst, beta_lst, k_lst):\r\n",
        "    pred = []\r\n",
        "    for i, q in enumerate(data[\"question_id\"]):\r\n",
        "        u = data[\"user_id\"][i]\r\n",
        "        pas = []\r\n",
        "        for j in range(len(theta_lst)):\r\n",
        "          x = (k_lst[j][q]*(theta_lst[j][u] - beta_lst[j][q])).sum()\r\n",
        "          p_a = sigmoid(x)*(1-c)+c\r\n",
        "          pas.append(p_a)\r\n",
        "        pred.append(sum(pas)/len(pas) >= 0.5)\r\n",
        "    return np.sum((data[\"is_correct\"] == np.array(pred))) \\\r\n",
        "           / len(data[\"is_correct\"])"
      ],
      "execution_count": 126,
      "outputs": []
    },
    {
      "cell_type": "code",
      "metadata": {
        "colab": {
          "base_uri": "https://localhost:8080/"
        },
        "id": "iCuz7fFu3vmC",
        "outputId": "4d164f1c-7b5b-4f4a-f66f-8569647ac0b7"
      },
      "source": [
        "correctness = (0.1+calc_correctness_percentage(sample4))*5\r\n",
        "init_theta = np.array([0 for i in range(542)], dtype=np.float32)\r\n",
        "init_beta = np.array([0 for j in range(1774)], dtype=np.float32)\r\n",
        "init_k = correctness\r\n",
        "\r\n",
        "NUM_ITERS = 40\r\n",
        "LEARNING_RATE = 0.0025\r\n",
        "C = 0.25\r\n",
        "theta4, beta4, k4, train_acc_lst, val_acc_lst, train_nlld, val_nlld = new_irt(sample4, other_valid, C, LEARNING_RATE, NUM_ITERS, init_theta, init_beta, init_k)"
      ],
      "execution_count": 250,
      "outputs": [
        {
          "output_type": "stream",
          "text": [
            "Step: 0 \n",
            " Train NLLK: 337.86201466743665, Train Score: 0.6181102362204725 \n",
            " Val NLLK: 40.54167671416844, Val Score: 0.5517241379310345\n",
            "Step: 1 \n",
            " Train NLLK: 328.03832559159423, Train Score: 0.6181102362204725 \n",
            " Val NLLK: 40.06691495874893, Val Score: 0.5517241379310345\n",
            "Step: 2 \n",
            " Train NLLK: 319.97182642669566, Train Score: 0.6181102362204725 \n",
            " Val NLLK: 39.741281771118025, Val Score: 0.5517241379310345\n",
            "Step: 3 \n",
            " Train NLLK: 313.1443775356285, Train Score: 0.6181102362204725 \n",
            " Val NLLK: 39.51929645367334, Val Score: 0.5517241379310345\n",
            "Step: 4 \n",
            " Train NLLK: 307.1820512861802, Train Score: 0.6181102362204725 \n",
            " Val NLLK: 39.365182171212474, Val Score: 0.5517241379310345\n",
            "Step: 5 \n",
            " Train NLLK: 301.8465242342443, Train Score: 0.6181102362204725 \n",
            " Val NLLK: 39.25520940704719, Val Score: 0.5517241379310345\n",
            "Step: 6 \n",
            " Train NLLK: 296.98673391952553, Train Score: 0.639763779527559 \n",
            " Val NLLK: 39.174346633029884, Val Score: 0.5517241379310345\n",
            "Step: 7 \n",
            " Train NLLK: 292.50358854394955, Train Score: 0.6692913385826772 \n",
            " Val NLLK: 39.11310111755083, Val Score: 0.5517241379310345\n",
            "Step: 8 \n",
            " Train NLLK: 288.3291971636566, Train Score: 0.6830708661417323 \n",
            " Val NLLK: 39.06542527325846, Val Score: 0.5517241379310345\n",
            "Step: 9 \n",
            " Train NLLK: 284.41501698032624, Train Score: 0.6968503937007874 \n",
            " Val NLLK: 39.02742685907447, Val Score: 0.5689655172413793\n",
            "Step: 10 \n",
            " Train NLLK: 280.72497693317445, Train Score: 0.6988188976377953 \n",
            " Val NLLK: 38.996578777999126, Val Score: 0.5689655172413793\n",
            "Step: 11 \n",
            " Train NLLK: 277.23134857920513, Train Score: 0.7125984251968503 \n",
            " Val NLLK: 38.9712278250968, Val Score: 0.5689655172413793\n",
            "Step: 12 \n",
            " Train NLLK: 273.9121955752554, Train Score: 0.7263779527559056 \n",
            " Val NLLK: 38.9502851193731, Val Score: 0.5689655172413793\n",
            "Step: 13 \n",
            " Train NLLK: 270.74973388823037, Train Score: 0.7263779527559056 \n",
            " Val NLLK: 38.93302703316524, Val Score: 0.5689655172413793\n",
            "Step: 14 \n",
            " Train NLLK: 267.72924613809005, Train Score: 0.734251968503937 \n",
            " Val NLLK: 38.91896667020404, Val Score: 0.5689655172413793\n",
            "Step: 15 \n",
            " Train NLLK: 264.8383444081007, Train Score: 0.734251968503937 \n",
            " Val NLLK: 38.90777012387545, Val Score: 0.5689655172413793\n",
            "Step: 16 \n",
            " Train NLLK: 262.06644605863715, Train Score: 0.7421259842519685 \n",
            " Val NLLK: 38.899201386673376, Val Score: 0.5862068965517241\n",
            "Step: 17 \n",
            " Train NLLK: 259.4044021056477, Train Score: 0.7421259842519685 \n",
            " Val NLLK: 38.8930872941183, Val Score: 0.6206896551724138\n",
            "Step: 18 \n",
            " Train NLLK: 256.844218703451, Train Score: 0.7460629921259843 \n",
            " Val NLLK: 38.88929385521789, Val Score: 0.6206896551724138\n",
            "Step: 19 \n",
            " Train NLLK: 254.37884588530062, Train Score: 0.7460629921259843 \n",
            " Val NLLK: 38.88771138617387, Val Score: 0.6206896551724138\n",
            "Step: 20 \n",
            " Train NLLK: 252.00202112698804, Train Score: 0.75 \n",
            " Val NLLK: 38.88824498594807, Val Score: 0.6206896551724138\n",
            "Step: 21 \n",
            " Train NLLK: 249.7081404481477, Train Score: 0.7618110236220472 \n",
            " Val NLLK: 38.890808462508886, Val Score: 0.6206896551724138\n",
            "Step: 22 \n",
            " Train NLLK: 247.49216091035936, Train Score: 0.7755905511811023 \n",
            " Val NLLK: 38.8953212734421, Val Score: 0.6206896551724138\n",
            "Step: 23 \n",
            " Train NLLK: 245.3495192967085, Train Score: 0.7775590551181102 \n",
            " Val NLLK: 38.90170565765718, Val Score: 0.6206896551724138\n",
            "Step: 24 \n",
            " Train NLLK: 243.27606748283293, Train Score: 0.7854330708661418 \n",
            " Val NLLK: 38.90988581820087, Val Score: 0.6206896551724138\n",
            "Step: 25 \n",
            " Train NLLK: 241.26801927340335, Train Score: 0.7874015748031497 \n",
            " Val NLLK: 38.919787406127504, Val Score: 0.6206896551724138\n",
            "Step: 26 \n",
            " Train NLLK: 239.32190594774974, Train Score: 0.7874015748031497 \n",
            " Val NLLK: 38.93133709572879, Val Score: 0.6206896551724138\n",
            "Step: 27 \n",
            " Train NLLK: 237.43453819678552, Train Score: 0.7893700787401575 \n",
            " Val NLLK: 38.944462992815495, Val Score: 0.6206896551724138\n",
            "Step: 28 \n",
            " Train NLLK: 235.6029759781671, Train Score: 0.7933070866141733 \n",
            " Val NLLK: 38.95909386124719, Val Score: 0.6206896551724138\n",
            "Step: 29 \n",
            " Train NLLK: 233.82449781289728, Train Score: 0.8051181102362205 \n",
            " Val NLLK: 38.975160450242925, Val Score: 0.6206896551724138\n",
            "Step: 30 \n",
            " Train NLLK: 232.09658120704643, Train Score: 0.8051181102362205 \n",
            " Val NLLK: 38.992594688421704, Val Score: 0.6206896551724138\n",
            "Step: 31 \n",
            " Train NLLK: 230.41688407222748, Train Score: 0.8110236220472441 \n",
            " Val NLLK: 39.0113304119872, Val Score: 0.6206896551724138\n",
            "Step: 32 \n",
            " Train NLLK: 228.78322314392094, Train Score: 0.8110236220472441 \n",
            " Val NLLK: 39.03130351986569, Val Score: 0.6206896551724138\n",
            "Step: 33 \n",
            " Train NLLK: 227.19356081004176, Train Score: 0.8188976377952756 \n",
            " Val NLLK: 39.05245146952948, Val Score: 0.603448275862069\n",
            "Step: 34 \n",
            " Train NLLK: 225.645992431212, Train Score: 0.8267716535433071 \n",
            " Val NLLK: 39.07471463141778, Val Score: 0.603448275862069\n",
            "Step: 35 \n",
            " Train NLLK: 224.1387319335765, Train Score: 0.8267716535433071 \n",
            " Val NLLK: 39.09803503979524, Val Score: 0.603448275862069\n",
            "Step: 36 \n",
            " Train NLLK: 222.6701056653727, Train Score: 0.8267716535433071 \n",
            " Val NLLK: 39.12235692767528, Val Score: 0.6206896551724138\n",
            "Step: 37 \n",
            " Train NLLK: 221.2385380375061, Train Score: 0.8307086614173228 \n",
            " Val NLLK: 39.147626973874445, Val Score: 0.6206896551724138\n",
            "Step: 38 \n",
            " Train NLLK: 219.84254755301785, Train Score: 0.8307086614173228 \n",
            " Val NLLK: 39.17379430249855, Val Score: 0.6206896551724138\n",
            "Step: 39 \n",
            " Train NLLK: 218.48073850347717, Train Score: 0.8307086614173228 \n",
            " Val NLLK: 39.20081060620759, Val Score: 0.6206896551724138\n"
          ],
          "name": "stdout"
        }
      ]
    },
    {
      "cell_type": "code",
      "metadata": {
        "colab": {
          "base_uri": "https://localhost:8080/"
        },
        "id": "InHsnBIv3084",
        "outputId": "243e4224-faa5-4e1a-e0bf-fbfb3e6f70a8"
      },
      "source": [
        "correctness = (0.1+calc_correctness_percentage(sample5))*5\r\n",
        "init_theta = np.array([0 for i in range(542)], dtype=np.float32)\r\n",
        "init_beta = np.array([0 for j in range(1774)], dtype=np.float32)\r\n",
        "init_k = correctness\r\n",
        "\r\n",
        "NUM_ITERS = 40\r\n",
        "LEARNING_RATE = 0.003\r\n",
        "C = 0.25\r\n",
        "theta5, beta5, k5, train_acc_lst, val_acc_lst, train_nlld, val_nlld = new_irt(sample5, other_valid, C, LEARNING_RATE, NUM_ITERS, init_theta, init_beta, init_k)"
      ],
      "execution_count": 253,
      "outputs": [
        {
          "output_type": "stream",
          "text": [
            "Step: 0 \n",
            " Train NLLK: 351.1434808853528, Train Score: 0.5669291338582677 \n",
            " Val NLLK: 40.54167671416844, Val Score: 0.5517241379310345\n",
            "Step: 1 \n",
            " Train NLLK: 337.4526062851103, Train Score: 0.5669291338582677 \n",
            " Val NLLK: 39.65473377739947, Val Score: 0.5517241379310345\n",
            "Step: 2 \n",
            " Train NLLK: 327.66950098403515, Train Score: 0.5669291338582677 \n",
            " Val NLLK: 39.11003703653698, Val Score: 0.5517241379310345\n",
            "Step: 3 \n",
            " Train NLLK: 319.9066283809888, Train Score: 0.5669291338582677 \n",
            " Val NLLK: 38.746008838827855, Val Score: 0.5517241379310345\n",
            "Step: 4 \n",
            " Train NLLK: 313.2751378360813, Train Score: 0.5669291338582677 \n",
            " Val NLLK: 38.47658003321679, Val Score: 0.5517241379310345\n",
            "Step: 5 \n",
            " Train NLLK: 307.38551804780104, Train Score: 0.5787401574803149 \n",
            " Val NLLK: 38.26329116117778, Val Score: 0.5517241379310345\n",
            "Step: 6 \n",
            " Train NLLK: 302.0365386088658, Train Score: 0.6082677165354331 \n",
            " Val NLLK: 38.08735524258884, Val Score: 0.5517241379310345\n",
            "Step: 7 \n",
            " Train NLLK: 297.1089046863402, Train Score: 0.6338582677165354 \n",
            " Val NLLK: 37.93860315536388, Val Score: 0.5517241379310345\n",
            "Step: 8 \n",
            " Train NLLK: 292.52488890147134, Train Score: 0.6712598425196851 \n",
            " Val NLLK: 37.811018739286, Val Score: 0.5517241379310345\n",
            "Step: 9 \n",
            " Train NLLK: 288.2303201049518, Train Score: 0.7007874015748031 \n",
            " Val NLLK: 37.70075373750971, Val Score: 0.603448275862069\n",
            "Step: 10 \n",
            " Train NLLK: 284.18546014074695, Train Score: 0.7224409448818898 \n",
            " Val NLLK: 37.6051683893398, Val Score: 0.603448275862069\n",
            "Step: 11 \n",
            " Train NLLK: 280.35993975031744, Train Score: 0.7519685039370079 \n",
            " Val NLLK: 37.52233814615093, Val Score: 0.603448275862069\n",
            "Step: 12 \n",
            " Train NLLK: 276.7297571476097, Train Score: 0.7755905511811023 \n",
            " Val NLLK: 37.45078568079662, Val Score: 0.6206896551724138\n",
            "Step: 13 \n",
            " Train NLLK: 273.2754155299796, Train Score: 0.7795275590551181 \n",
            " Val NLLK: 37.38932952277697, Val Score: 0.6379310344827587\n",
            "Step: 14 \n",
            " Train NLLK: 269.9807124749978, Train Score: 0.781496062992126 \n",
            " Val NLLK: 37.336994417527684, Val Score: 0.6379310344827587\n",
            "Step: 15 \n",
            " Train NLLK: 266.83193546269825, Train Score: 0.781496062992126 \n",
            " Val NLLK: 37.29295538129086, Val Score: 0.6379310344827587\n",
            "Step: 16 \n",
            " Train NLLK: 263.8173014706993, Train Score: 0.7893700787401575 \n",
            " Val NLLK: 37.25650273182049, Val Score: 0.6379310344827587\n",
            "Step: 17 \n",
            " Train NLLK: 260.9265617751484, Train Score: 0.797244094488189 \n",
            " Val NLLK: 37.227018081055604, Val Score: 0.6379310344827587\n",
            "Step: 18 \n",
            " Train NLLK: 258.1507126563808, Train Score: 0.8051181102362205 \n",
            " Val NLLK: 37.20395649047478, Val Score: 0.6379310344827587\n",
            "Step: 19 \n",
            " Train NLLK: 255.48177459105526, Train Score: 0.8228346456692913 \n",
            " Val NLLK: 37.18683477518559, Val Score: 0.6379310344827587\n",
            "Step: 20 \n",
            " Train NLLK: 252.91263193395693, Train Score: 0.8188976377952756 \n",
            " Val NLLK: 37.175221211413174, Val Score: 0.6379310344827587\n",
            "Step: 21 \n",
            " Train NLLK: 250.4368951615646, Train Score: 0.8208661417322834 \n",
            " Val NLLK: 37.168728387714594, Val Score: 0.6551724137931034\n",
            "Step: 22 \n",
            " Train NLLK: 248.04880242180113, Train Score: 0.8307086614173228 \n",
            " Val NLLK: 37.16700688370462, Val Score: 0.6379310344827587\n",
            "Step: 23 \n",
            " Train NLLK: 245.7431305416591, Train Score: 0.8385826771653543 \n",
            " Val NLLK: 37.16973995502564, Val Score: 0.6379310344827587\n",
            "Step: 24 \n",
            " Train NLLK: 243.5151261702036, Train Score: 0.8346456692913385 \n",
            " Val NLLK: 37.176639677575686, Val Score: 0.6379310344827587\n",
            "Step: 25 \n",
            " Train NLLK: 241.36044840188436, Train Score: 0.8366141732283464 \n",
            " Val NLLK: 37.18744299104728, Val Score: 0.6379310344827587\n",
            "Step: 26 \n",
            " Train NLLK: 239.27511914363808, Train Score: 0.84251968503937 \n",
            " Val NLLK: 37.20190924409989, Val Score: 0.6551724137931034\n",
            "Step: 27 \n",
            " Train NLLK: 237.25548302324026, Train Score: 0.8464566929133859 \n",
            " Val NLLK: 37.21981701004311, Val Score: 0.6551724137931034\n",
            "Step: 28 \n",
            " Train NLLK: 235.2981694066489, Train Score: 0.8543307086614174 \n",
            " Val NLLK: 37.24096218281768, Val Score: 0.6551724137931034\n",
            "Step: 29 \n",
            " Train NLLK: 233.40006366832762, Train Score: 0.8562992125984252 \n",
            " Val NLLK: 37.26515612384558, Val Score: 0.6896551724137931\n",
            "Step: 30 \n",
            " Train NLLK: 231.5582805990287, Train Score: 0.8562992125984252 \n",
            " Val NLLK: 37.29222424800589, Val Score: 0.6896551724137931\n",
            "Step: 31 \n",
            " Train NLLK: 229.77014010378178, Train Score: 0.8523622047244095 \n",
            " Val NLLK: 37.322004086555594, Val Score: 0.6896551724137931\n",
            "Step: 32 \n",
            " Train NLLK: 228.0331497120758, Train Score: 0.8464566929133859 \n",
            " Val NLLK: 37.35434447293826, Val Score: 0.6896551724137931\n",
            "Step: 33 \n",
            " Train NLLK: 226.3449833736829, Train Score: 0.8464566929133859 \n",
            " Val NLLK: 37.38910440588311, Val Score: 0.6896551724137931\n",
            "Step: 34 \n",
            " Train NLLK: 224.70347047233616, Train Score: 0.8464566929133859 \n",
            " Val NLLK: 37.426152474514296, Val Score: 0.6896551724137931\n",
            "Step: 35 \n",
            " Train NLLK: 223.10657811623423, Train Score: 0.8523622047244095 \n",
            " Val NLLK: 37.465365026420315, Val Score: 0.6896551724137931\n",
            "Step: 36 \n",
            " Train NLLK: 221.55240118165085, Train Score: 0.8523622047244095 \n",
            " Val NLLK: 37.50662698190481, Val Score: 0.6896551724137931\n",
            "Step: 37 \n",
            " Train NLLK: 220.0391498121277, Train Score: 0.8523622047244095 \n",
            " Val NLLK: 37.54982974467902, Val Score: 0.6896551724137931\n",
            "Step: 38 \n",
            " Train NLLK: 218.56514287744434, Train Score: 0.8543307086614174 \n",
            " Val NLLK: 37.59487164276094, Val Score: 0.6896551724137931\n",
            "Step: 39 \n",
            " Train NLLK: 217.12879572458377, Train Score: 0.8543307086614174 \n",
            " Val NLLK: 37.64165678604265, Val Score: 0.6896551724137931\n"
          ],
          "name": "stdout"
        }
      ]
    },
    {
      "cell_type": "code",
      "metadata": {
        "colab": {
          "base_uri": "https://localhost:8080/"
        },
        "id": "Q1ZBHmR6yGM8",
        "outputId": "dba5948d-0abf-4999-fc17-0624a725bfd9"
      },
      "source": [
        "evaluate_ensemble(other_test, 0.25, [theta1, theta2, theta3,theta4,theta5], [beta1, beta2, beta3,beta4,beta5], [k1,k2,k3,k4,k5])"
      ],
      "execution_count": 255,
      "outputs": [
        {
          "output_type": "execute_result",
          "data": {
            "text/plain": [
              "0.5357142857142857"
            ]
          },
          "metadata": {
            "tags": []
          },
          "execution_count": 255
        }
      ]
    },
    {
      "cell_type": "code",
      "metadata": {
        "id": "tIVcASHz5ImM"
      },
      "source": [
        "def predict_ensemble_private(data, c, theta_lst, beta_lst, k_lst):\r\n",
        "    pred = []\r\n",
        "    data = data.copy()\r\n",
        "    for i, q in enumerate(data[\"question_id\"]):\r\n",
        "        u = data[\"user_id\"][i]\r\n",
        "        pas = []\r\n",
        "        for j in range(len(theta_lst)):\r\n",
        "          x = (k_lst[j][q]*(theta_lst[j][u] - beta_lst[j][q])).sum()\r\n",
        "          p_a = sigmoid(x)*(1-c)+c\r\n",
        "          pas.append(p_a >= 0.5)\r\n",
        "        pred.append(int(sum(pas)/len(pas) >= 0.5))\r\n",
        "    data[\"is_correct\"] = pred\r\n",
        "    return data"
      ],
      "execution_count": 169,
      "outputs": []
    },
    {
      "cell_type": "code",
      "metadata": {
        "id": "WpzN0Nr36JI9"
      },
      "source": [
        "private_data = load_private_test_csv(\"./data\")"
      ],
      "execution_count": 167,
      "outputs": []
    },
    {
      "cell_type": "code",
      "metadata": {
        "id": "AQeTfOtL6sKC"
      },
      "source": [
        "result = predict_ensemble_private(private_data, 0.25, [theta1, theta2, theta3,theta4,theta5], [beta1, beta2, beta3,beta4,beta5], [k1,k2,k3,k4,k5])"
      ],
      "execution_count": 174,
      "outputs": []
    },
    {
      "cell_type": "code",
      "metadata": {
        "id": "U1VEsL3s63Jt"
      },
      "source": [
        "save_private_test_csv(result)"
      ],
      "execution_count": 176,
      "outputs": []
    }
  ]
}